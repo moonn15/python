{
 "cells": [
  {
   "cell_type": "code",
   "execution_count": 1,
   "id": "d5dd48fb",
   "metadata": {},
   "outputs": [],
   "source": [
    "# dictionary\n",
    "# -indexed\n",
    "# -ordered\n",
    "# -multiple values\n",
    "# -duplicate values\n",
    "# -mutable"
   ]
  },
  {
   "cell_type": "code",
   "execution_count": 2,
   "id": "98425a7a",
   "metadata": {},
   "outputs": [
    {
     "name": "stdout",
     "output_type": "stream",
     "text": [
      "<class 'dict'>\n"
     ]
    }
   ],
   "source": [
    "d={}\n",
    "print(type(d))"
   ]
  },
  {
   "cell_type": "code",
   "execution_count": 3,
   "id": "cad7e59f",
   "metadata": {},
   "outputs": [],
   "source": [
    "# d={<key>:<values>}"
   ]
  },
  {
   "cell_type": "code",
   "execution_count": 4,
   "id": "e4c3ef0b",
   "metadata": {},
   "outputs": [
    {
     "name": "stdout",
     "output_type": "stream",
     "text": [
      "{'a': 'apple'}\n"
     ]
    }
   ],
   "source": [
    "d={'a':\"apple\"}\n",
    "print(d)"
   ]
  },
  {
   "cell_type": "code",
   "execution_count": 6,
   "id": "a91f9685",
   "metadata": {},
   "outputs": [
    {
     "name": "stdout",
     "output_type": "stream",
     "text": [
      "ball\n"
     ]
    }
   ],
   "source": [
    "d={'a':\"apple\",\"b\":\"ball\",\"c\":\"cat\"}   #indexed\n",
    "print(d['b'])"
   ]
  },
  {
   "cell_type": "code",
   "execution_count": 7,
   "id": "362d1932",
   "metadata": {},
   "outputs": [
    {
     "name": "stdout",
     "output_type": "stream",
     "text": [
      "{'a': 'apple', 'b': 'ball', 'c': 'cat'}\n",
      "3\n"
     ]
    }
   ],
   "source": [
    "d={'a':\"apple\",\"b\":\"ball\",\"c\":\"cat\"}\n",
    "print(d)\n",
    "print(len(d))"
   ]
  },
  {
   "cell_type": "code",
   "execution_count": 8,
   "id": "e1bc885f",
   "metadata": {},
   "outputs": [
    {
     "name": "stdout",
     "output_type": "stream",
     "text": [
      "{'a': 'apple', 'b': 'ball', 'A': 'apple'}\n"
     ]
    }
   ],
   "source": [
    "d={'a':\"apple\",\"b\":\"ball\",\"A\":\"apple\"}\n",
    "print(d)"
   ]
  },
  {
   "cell_type": "code",
   "execution_count": 9,
   "id": "a3483b61",
   "metadata": {},
   "outputs": [
    {
     "name": "stdout",
     "output_type": "stream",
     "text": [
      "{'a': 'apple', 'b': 'ball'}\n"
     ]
    }
   ],
   "source": [
    "d={'a':\"apple\",\"b\":\"ball\",\"a\":\"apple\"} #duplicate key huna mildaina\n",
    "print(d)"
   ]
  },
  {
   "cell_type": "code",
   "execution_count": 10,
   "id": "ee208300",
   "metadata": {},
   "outputs": [
    {
     "name": "stdout",
     "output_type": "stream",
     "text": [
      "{'A': 'Apple', 'B': 'Ball', 'C': 'Cat'}\n"
     ]
    }
   ],
   "source": [
    "a={}\n",
    "a['A']=\"Apple\"\n",
    "a['B']=\"Ball\"      #mutable \n",
    "a['C']=\"Cat\"\n",
    "print(a)"
   ]
  },
  {
   "cell_type": "code",
   "execution_count": 11,
   "id": "95db3258",
   "metadata": {},
   "outputs": [
    {
     "name": "stdout",
     "output_type": "stream",
     "text": [
      "enter n=2\n",
      "enter name=ram\n",
      "enter phone=98088800\n",
      "enter name=shyam\n",
      "enter phone=98987642\n",
      "{'ram': '98088800', 'shyam': '98987642'}\n"
     ]
    }
   ],
   "source": [
    "info={}                                   #dict() lekhda ni huncha\n",
    "n=int(input(\"enter n=\"))\n",
    "for i in range(n):\n",
    "    name=input(\"enter name=\")\n",
    "    phone=input(\"enter phone=\")\n",
    "    info[name]=phone\n",
    "print(info)"
   ]
  },
  {
   "cell_type": "code",
   "execution_count": 12,
   "id": "b2d6913e",
   "metadata": {},
   "outputs": [
    {
     "name": "stdout",
     "output_type": "stream",
     "text": [
      "ram\n",
      "shyam\n"
     ]
    }
   ],
   "source": [
    "d={\"ram\":\"9870000\",\"shyam\":\"98300202\"}\n",
    "for i in d:\n",
    "    print(i)"
   ]
  },
  {
   "cell_type": "code",
   "execution_count": 13,
   "id": "e414fc6b",
   "metadata": {},
   "outputs": [
    {
     "name": "stdout",
     "output_type": "stream",
     "text": [
      "9870000\n",
      "98300202\n"
     ]
    }
   ],
   "source": [
    "d={\"ram\":\"9870000\",\"shyam\":\"98300202\"}\n",
    "for i in d.values():\n",
    "    print(i)"
   ]
  },
  {
   "cell_type": "code",
   "execution_count": 14,
   "id": "5cc6dce1",
   "metadata": {},
   "outputs": [
    {
     "name": "stdout",
     "output_type": "stream",
     "text": [
      "('ram', '9870000')\n",
      "('shyam', '98300202')\n"
     ]
    }
   ],
   "source": [
    "d={\"ram\":\"9870000\",\"shyam\":\"98300202\"}\n",
    "for i in d.items():\n",
    "    print(i)"
   ]
  },
  {
   "cell_type": "code",
   "execution_count": 15,
   "id": "8ba9cc91",
   "metadata": {
    "scrolled": false
   },
   "outputs": [
    {
     "name": "stdout",
     "output_type": "stream",
     "text": [
      "[('ram', '9870000'), ('shyam', '98300202')]\n"
     ]
    }
   ],
   "source": [
    "l=list()\n",
    "d={\"ram\":\"9870000\",\"shyam\":\"98300202\"}\n",
    "for i in d.items():\n",
    "    l.append(i)\n",
    "print(l)"
   ]
  },
  {
   "cell_type": "code",
   "execution_count": 16,
   "id": "062c8b4e",
   "metadata": {},
   "outputs": [
    {
     "data": {
      "text/plain": [
       "{'ram': '9870000', 'shyam': '98300202'}"
      ]
     },
     "execution_count": 16,
     "metadata": {},
     "output_type": "execute_result"
    }
   ],
   "source": [
    "a=[('ram', '9870000'), ('shyam', '98300202')]\n",
    "dict(a)"
   ]
  },
  {
   "cell_type": "code",
   "execution_count": 17,
   "id": "5348ca97",
   "metadata": {},
   "outputs": [
    {
     "name": "stdout",
     "output_type": "stream",
     "text": [
      "{'ram': '9844321', 'shyam': '98300202'}\n"
     ]
    }
   ],
   "source": [
    "d={\"ram\":\"9870000\",\"shyam\":\"98300202\"}\n",
    "d[\"ram\"]=\"9844321\"\n",
    "print(d)"
   ]
  },
  {
   "cell_type": "code",
   "execution_count": 18,
   "id": "7b23fe16",
   "metadata": {},
   "outputs": [
    {
     "name": "stdout",
     "output_type": "stream",
     "text": [
      "{'shyam': '98300202'}\n"
     ]
    }
   ],
   "source": [
    "# del pop()\n",
    "d={\"ram\":\"9870000\",\"shyam\":\"98300202\"}\n",
    "del d[\"ram\"]\n",
    "print(d)"
   ]
  },
  {
   "cell_type": "code",
   "execution_count": 19,
   "id": "f3189b7e",
   "metadata": {},
   "outputs": [
    {
     "name": "stdout",
     "output_type": "stream",
     "text": [
      "{'shyam': '98300202'}\n"
     ]
    }
   ],
   "source": [
    "d={\"ram\":\"9870000\",\"shyam\":\"98300202\"}\n",
    "d.pop(\"ram\")\n",
    "print(d)"
   ]
  },
  {
   "cell_type": "code",
   "execution_count": 20,
   "id": "9bbd85e9",
   "metadata": {},
   "outputs": [
    {
     "name": "stdout",
     "output_type": "stream",
     "text": [
      "{'ram': ['9870000', '98753333'], 'shyam': ['98300202', '98303032']}\n",
      "2\n",
      "<class 'dict'>\n"
     ]
    }
   ],
   "source": [
    "#list inside dictionary\n",
    "d={\"ram\":[\"9870000\",\"98753333\"],\"shyam\":[\"98300202\",\"98303032\"]}\n",
    "print(d)\n",
    "print(len(d))\n",
    "print(type(d))"
   ]
  },
  {
   "cell_type": "code",
   "execution_count": 21,
   "id": "fb31d7ff",
   "metadata": {},
   "outputs": [
    {
     "name": "stdout",
     "output_type": "stream",
     "text": [
      "['9870000', '98753333']\n",
      "98300202\n"
     ]
    }
   ],
   "source": [
    "print(d[\"ram\"])\n",
    "print(d[\"shyam\"][0])"
   ]
  },
  {
   "cell_type": "code",
   "execution_count": 22,
   "id": "d5115309",
   "metadata": {},
   "outputs": [
    {
     "name": "stdout",
     "output_type": "stream",
     "text": [
      "('ram', ['9870000', '98753333'])\n",
      "('shyam', ['98300202', '98303032'])\n"
     ]
    }
   ],
   "source": [
    "d={\"ram\":[\"9870000\",\"98753333\"],\"shyam\":[\"98300202\",\"98303032\"]}\n",
    "for i in d.items():\n",
    "    print(i)"
   ]
  },
  {
   "cell_type": "code",
   "execution_count": 26,
   "id": "9e21a501",
   "metadata": {},
   "outputs": [
    {
     "name": "stdout",
     "output_type": "stream",
     "text": [
      "enter n=2\n",
      "enter name=ram\n",
      "enter ntc phone=98058585\n",
      "enter ncell phone=98058576\n",
      "enter name=shyam\n",
      "enter ntc phone=985767676\n",
      "enter ncell phone=9828383\n",
      "{'ram': ['98058585', '98058576'], 'shyam': ['985767676', '9828383']}\n"
     ]
    }
   ],
   "source": [
    "data={}\n",
    "n=int(input(\"enter n=\"))\n",
    "for i in range(n):\n",
    "    name=input(\"enter name=\")\n",
    "    ntc=input(\"enter ntc phone=\")\n",
    "    ncell=input(\"enter ncell phone=\")\n",
    "    data[name]=[ntc,ncell]\n",
    "print(data)"
   ]
  },
  {
   "cell_type": "code",
   "execution_count": 27,
   "id": "548cf13b",
   "metadata": {},
   "outputs": [
    {
     "data": {
      "text/plain": [
       "{'ram': ['9834746464', '98753333'], 'shyam': ['98300202', '98303032']}"
      ]
     },
     "execution_count": 27,
     "metadata": {},
     "output_type": "execute_result"
    }
   ],
   "source": [
    "d={'ram': ['98058585', '98058576'], 'shyam': ['985767676', '9828383']}\n",
    "d[\"ram\"][0]=\"9834746464\"\n",
    "d"
   ]
  },
  {
   "cell_type": "code",
   "execution_count": 28,
   "id": "c885c506",
   "metadata": {},
   "outputs": [
    {
     "data": {
      "text/plain": [
       "{'ram': ['98753333'], 'shyam': ['98300202', '98303032']}"
      ]
     },
     "execution_count": 28,
     "metadata": {},
     "output_type": "execute_result"
    }
   ],
   "source": [
    "d={'ram': ['98058585', '98058576'], 'shyam': ['985767676', '9828383']}\n",
    "del d[\"ram\"][0]  #or d.pop(\"ram\") lekhda huncha.. d[\"ram\"].pop(0) specific value delete garne\n",
    "d"
   ]
  },
  {
   "cell_type": "code",
   "execution_count": 31,
   "id": "79ed06c2",
   "metadata": {},
   "outputs": [
    {
     "data": {
      "text/plain": [
       "{'ram': ['98058585', '98058576', '98765543'],\n",
       " 'shyam': ['985767676', '9828383']}"
      ]
     },
     "execution_count": 31,
     "metadata": {},
     "output_type": "execute_result"
    }
   ],
   "source": [
    "d={'ram':['98058585', '98058576'],'shyam':['985767676', '9828383']}\n",
    "d[\"ram\"].append(\"98765543\")\n",
    "d"
   ]
  },
  {
   "cell_type": "code",
   "execution_count": 37,
   "id": "493ebadc",
   "metadata": {},
   "outputs": [
    {
     "name": "stdout",
     "output_type": "stream",
     "text": [
      "{'name': 'ram', 'ntc': 98000044}\n"
     ]
    }
   ],
   "source": [
    "#dict inside list\n",
    "d=[{\"name\":\"ram\",\"ntc\":98000044},{\"name\":\"shyam\",\"ntc\":987573829}]\n",
    "print(d[0])"
   ]
  },
  {
   "cell_type": "code",
   "execution_count": 38,
   "id": "262d0bb0",
   "metadata": {},
   "outputs": [
    {
     "name": "stdout",
     "output_type": "stream",
     "text": [
      "ram\n"
     ]
    }
   ],
   "source": [
    "print(d[0][\"name\"])"
   ]
  },
  {
   "cell_type": "code",
   "execution_count": 42,
   "id": "3da38803",
   "metadata": {},
   "outputs": [
    {
     "name": "stdout",
     "output_type": "stream",
     "text": [
      "[{'name': 'ram', 'ntc': 98000044}, {'name': 'shyam', 'ntc': 987573829}]\n",
      "[{'name': 'ram', 'ntc': 98000044}, {'name': 'shyam', 'ntc': 987573829}]\n"
     ]
    }
   ],
   "source": [
    "for i in d:\n",
    "    print(d)"
   ]
  },
  {
   "cell_type": "code",
   "execution_count": 3,
   "id": "5cddd453",
   "metadata": {},
   "outputs": [
    {
     "name": "stdout",
     "output_type": "stream",
     "text": [
      "enter n=2\n",
      "enter name=ram\n",
      "enter ntc phone=98767262\n",
      "enter ncell phone=98765621\n",
      "enter name=shyam\n",
      "enter ntc phone=9832732\n",
      "enter ncell phone=9713682\n",
      "[{'name': 'ram', 'ntc': '98767262', 'ncell': '98765621'}, {'name': 'shyam', 'ntc': '9832732', 'ncell': '9713682'}]\n"
     ]
    }
   ],
   "source": [
    "data=[]\n",
    "n=int(input(\"enter n=\"))\n",
    "for i in range(n):\n",
    "    name=input(\"enter name=\")\n",
    "    ntc=input(\"enter ntc phone=\")\n",
    "    ncell=input(\"enter ncell phone=\")\n",
    "    info={'name':name,'ntc':ntc,'ncell':ncell}\n",
    "    data.append(info)\n",
    "print(data)"
   ]
  },
  {
   "cell_type": "code",
   "execution_count": 6,
   "id": "a7cede57",
   "metadata": {},
   "outputs": [
    {
     "name": "stdout",
     "output_type": "stream",
     "text": [
      "98767262\n"
     ]
    }
   ],
   "source": [
    "print(data[0]['ntc'])"
   ]
  },
  {
   "cell_type": "code",
   "execution_count": 7,
   "id": "621f001a",
   "metadata": {},
   "outputs": [
    {
     "name": "stdout",
     "output_type": "stream",
     "text": [
      "[{'name': 'ram prasad', 'ntc': '98767262', 'ncell': '98765621'}, {'name': 'shyam', 'ntc': '9832732', 'ncell': '9713682'}]\n"
     ]
    }
   ],
   "source": [
    "data[0]['name']=\"ram prasad\"\n",
    "print(data)"
   ]
  },
  {
   "cell_type": "code",
   "execution_count": 12,
   "id": "3f5a9c35",
   "metadata": {},
   "outputs": [
    {
     "data": {
      "text/plain": [
       "[{'name': 'ram prasad',\n",
       "  'ntc': '98767262',\n",
       "  'ncell': '98765621',\n",
       "  'land': 4416765},\n",
       " {'name': 'shyam', 'ntc': '9832732', 'ncell': '9713682'}]"
      ]
     },
     "execution_count": 12,
     "metadata": {},
     "output_type": "execute_result"
    }
   ],
   "source": [
    "data[0]['land']=4416765\n",
    "data"
   ]
  },
  {
   "cell_type": "code",
   "execution_count": 13,
   "id": "54d057fb",
   "metadata": {},
   "outputs": [],
   "source": [
    "# dict inside dict\n",
    "# d={<key>:{<key>:<value>}}"
   ]
  },
  {
   "cell_type": "code",
   "execution_count": 14,
   "id": "3c4f7103",
   "metadata": {},
   "outputs": [
    {
     "name": "stdout",
     "output_type": "stream",
     "text": [
      "{'name': 'ram prasad', 'ntc': '98767262', 'ncell': '98765621'}\n"
     ]
    }
   ],
   "source": [
    "d={1:{'name': 'ram prasad', 'ntc': '98767262', 'ncell': '98765621'}, 2:{'name': 'shyam', 'ntc': '9832732', 'ncell': '9713682'}}\n",
    "print(d[1])"
   ]
  },
  {
   "cell_type": "code",
   "execution_count": 18,
   "id": "aa3960fb",
   "metadata": {},
   "outputs": [
    {
     "name": "stdout",
     "output_type": "stream",
     "text": [
      "{'name': 'ram prasad', 'ntc': '98767262', 'ncell': '98765621'}\n"
     ]
    }
   ],
   "source": [
    "d={'nepal':{'name': 'ram prasad', 'ntc': '98767262', 'ncell': '98765621'},'USA':{'name': 'shyam', 'ntc': '9832732', 'ncell': '9713682'}}\n",
    "print(d['nepal'])"
   ]
  },
  {
   "cell_type": "code",
   "execution_count": 20,
   "id": "108436a2",
   "metadata": {},
   "outputs": [
    {
     "name": "stdout",
     "output_type": "stream",
     "text": [
      "ram prasad\n"
     ]
    }
   ],
   "source": [
    "print(d['nepal']['name'])"
   ]
  },
  {
   "cell_type": "code",
   "execution_count": 25,
   "id": "b9f7ed17",
   "metadata": {},
   "outputs": [
    {
     "name": "stdout",
     "output_type": "stream",
     "text": [
      "enter n=2\n",
      "enter name=ram\n",
      "enter ntc phone=98373\n",
      "enter ncell phone=982663\n",
      "enter name=shyam\n",
      "enter ntc phone=9836236\n",
      "enter ncell phone=8721621\n",
      "{1: ['98373', '982663'], 2: ['9836236', '8721621']}\n"
     ]
    }
   ],
   "source": [
    "data={}\n",
    "n=int(input(\"enter n=\"))\n",
    "for i in range(1,n+1):\n",
    "    name=input(\"enter name=\")\n",
    "    ntc=input(\"enter ntc phone=\")\n",
    "    ncell=input(\"enter ncell phone=\")\n",
    "    data[i]=[ntc,ncell]\n",
    "print(data)"
   ]
  },
  {
   "cell_type": "code",
   "execution_count": 22,
   "id": "ac020fa8",
   "metadata": {},
   "outputs": [
    {
     "data": {
      "text/plain": [
       "{1: ['982622', '9861242'],\n",
       " 2: ['827622', '98262'],\n",
       " 3: {'name': 'hari', 'ntc': 892873324, 'ncell': 9828222}}"
      ]
     },
     "execution_count": 22,
     "metadata": {},
     "output_type": "execute_result"
    }
   ],
   "source": [
    "data[3]={\"name\":\"hari\",\"ntc\":892873324,\"ncell\":9828222}\n",
    "data"
   ]
  },
  {
   "cell_type": "code",
   "execution_count": 27,
   "id": "a42e97fb",
   "metadata": {},
   "outputs": [
    {
     "ename": "TypeError",
     "evalue": "list indices must be integers or slices, not str",
     "output_type": "error",
     "traceback": [
      "\u001b[1;31m---------------------------------------------------------------------------\u001b[0m",
      "\u001b[1;31mTypeError\u001b[0m                                 Traceback (most recent call last)",
      "\u001b[1;32m~\\AppData\\Local\\Temp/ipykernel_9416/231393847.py\u001b[0m in \u001b[0;36m<module>\u001b[1;34m\u001b[0m\n\u001b[1;32m----> 1\u001b[1;33m \u001b[0mdata\u001b[0m\u001b[1;33m[\u001b[0m\u001b[1;36m1\u001b[0m\u001b[1;33m]\u001b[0m\u001b[1;33m[\u001b[0m\u001b[1;34m'ntc'\u001b[0m\u001b[1;33m]\u001b[0m\u001b[1;33m=\u001b[0m\u001b[1;33m[\u001b[0m\u001b[1;36m98362363\u001b[0m\u001b[1;33m,\u001b[0m\u001b[1;36m986544\u001b[0m\u001b[1;33m]\u001b[0m\u001b[1;33m\u001b[0m\u001b[1;33m\u001b[0m\u001b[0m\n\u001b[0m\u001b[0;32m      2\u001b[0m \u001b[0mdata\u001b[0m\u001b[1;33m\u001b[0m\u001b[1;33m\u001b[0m\u001b[0m\n",
      "\u001b[1;31mTypeError\u001b[0m: list indices must be integers or slices, not str"
     ]
    }
   ],
   "source": [
    "data[1]['ntc']=[98362363,986544]\n",
    "data"
   ]
  },
  {
   "cell_type": "code",
   "execution_count": 29,
   "id": "7d59b10e",
   "metadata": {},
   "outputs": [
    {
     "name": "stdout",
     "output_type": "stream",
     "text": [
      "{('ram', 'shyam'): 'kathmandu'}\n"
     ]
    }
   ],
   "source": [
    "d={('ram','shyam'):'kathmandu'}\n",
    "print(d)"
   ]
  },
  {
   "cell_type": "code",
   "execution_count": 30,
   "id": "4fa52b83",
   "metadata": {},
   "outputs": [
    {
     "data": {
      "text/plain": [
       "'kathmandu'"
      ]
     },
     "execution_count": 30,
     "metadata": {},
     "output_type": "execute_result"
    }
   ],
   "source": [
    "d[('ram','shyam')]"
   ]
  },
  {
   "cell_type": "code",
   "execution_count": 35,
   "id": "3f9fab77",
   "metadata": {},
   "outputs": [
    {
     "data": {
      "text/plain": [
       "{1: {'name': 'akash', 'physics': {'th': 60, 'pr': 20}},\n",
       " 2: {'name': 'shyam', 'physics': {'th': 50, 'pr': 25}}}"
      ]
     },
     "execution_count": 35,
     "metadata": {},
     "output_type": "execute_result"
    }
   ],
   "source": [
    "d={1:{'name':'akash','physics':{'th':60,'pr':20}},\n",
    "   2:{'name':'shyam','physics':{'th':50,'pr':25}}}\n",
    "d"
   ]
  },
  {
   "cell_type": "code",
   "execution_count": 40,
   "id": "43135f8d",
   "metadata": {},
   "outputs": [
    {
     "name": "stdout",
     "output_type": "stream",
     "text": [
      "enter n=2\n",
      "enter name=akash\n",
      "enter subject=physics\n",
      "enter theory=60\n",
      "enter pratical=20\n",
      "enter name=shyam\n",
      "enter subject=physics\n",
      "enter theory=50\n",
      "enter pratical=25\n",
      "{1: {'name': 'akash', 'subject': 'physics', 'theory': '60', 'practical': '20'}, 2: {'name': 'shyam', 'subject': 'physics', 'theory': '50', 'practical': '25'}}\n"
     ]
    }
   ],
   "source": [
    "data={}\n",
    "n=int(input(\"enter n=\"))\n",
    "for i in range(1,n+1):\n",
    "    name=input(\"enter name=\")\n",
    "    subject=input(\"enter subject=\")\n",
    "    theory=input(\"enter theory=\")\n",
    "    practical=input(\"enter pratical=\")\n",
    "    data[i]={'name':name,'subject':subject,'theory':theory,'practical':practical}\n",
    "print(data)"
   ]
  },
  {
   "cell_type": "code",
   "execution_count": null,
   "id": "3f174cf7",
   "metadata": {},
   "outputs": [],
   "source": []
  }
 ],
 "metadata": {
  "kernelspec": {
   "display_name": "Python 3 (ipykernel)",
   "language": "python",
   "name": "python3"
  },
  "language_info": {
   "codemirror_mode": {
    "name": "ipython",
    "version": 3
   },
   "file_extension": ".py",
   "mimetype": "text/x-python",
   "name": "python",
   "nbconvert_exporter": "python",
   "pygments_lexer": "ipython3",
   "version": "3.9.7"
  }
 },
 "nbformat": 4,
 "nbformat_minor": 5
}
