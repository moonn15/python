{
 "cells": [
  {
   "cell_type": "code",
   "execution_count": 1,
   "id": "39ca5dc3",
   "metadata": {},
   "outputs": [],
   "source": [
    "class hello:\n",
    "    pass\n",
    "obj=hello()"
   ]
  },
  {
   "cell_type": "code",
   "execution_count": 2,
   "id": "860a1a99",
   "metadata": {},
   "outputs": [
    {
     "name": "stdout",
     "output_type": "stream",
     "text": [
      "hello world\n"
     ]
    }
   ],
   "source": [
    "class hello:\n",
    "    print(\"hello world\")\n",
    "obj=hello()"
   ]
  },
  {
   "cell_type": "code",
   "execution_count": 4,
   "id": "19fd1b0e",
   "metadata": {},
   "outputs": [
    {
     "name": "stdout",
     "output_type": "stream",
     "text": [
      "hello world\n"
     ]
    }
   ],
   "source": [
    "class hello:                          #class\n",
    "    def hello(self):                  #method\n",
    "        print(\"hello world\")\n",
    "obj=hello()                           #object\n",
    "obj.hello()"
   ]
  },
  {
   "cell_type": "code",
   "execution_count": 6,
   "id": "91580a1c",
   "metadata": {},
   "outputs": [
    {
     "name": "stdout",
     "output_type": "stream",
     "text": [
      "hello world\n"
     ]
    }
   ],
   "source": [
    "class hello:                          #class\n",
    "    @staticmethod\n",
    "    def hello():                  #method\n",
    "        print(\"hello world\")\n",
    "obj=hello()                           #object\n",
    "obj.hello()"
   ]
  },
  {
   "cell_type": "code",
   "execution_count": 7,
   "id": "5e5fb91a",
   "metadata": {},
   "outputs": [
    {
     "name": "stdout",
     "output_type": "stream",
     "text": [
      "enter l=10\n",
      "enter b=2\n",
      "20\n"
     ]
    }
   ],
   "source": [
    "class cal:\n",
    "    def area(self):\n",
    "        l=int(input(\"enter l=\"))\n",
    "        b=int(input(\"enter b=\"))\n",
    "        a=l*b\n",
    "        return a\n",
    "obj=cal()\n",
    "print(obj.area())"
   ]
  },
  {
   "cell_type": "code",
   "execution_count": 9,
   "id": "97af392a",
   "metadata": {},
   "outputs": [
    {
     "name": "stdout",
     "output_type": "stream",
     "text": [
      "enter l=10\n",
      "enter b=2\n",
      "20\n"
     ]
    }
   ],
   "source": [
    "class cal:\n",
    "    def area(self,x,y):\n",
    "       \n",
    "        a=x*y\n",
    "        return a\n",
    "l=int(input(\"enter l=\")) \n",
    "b=int(input(\"enter b=\"))\n",
    "obj=cal()\n",
    "print(obj.area(l,b))"
   ]
  },
  {
   "cell_type": "code",
   "execution_count": null,
   "id": "1789614a",
   "metadata": {},
   "outputs": [],
   "source": [
    "class cal:\n",
    "    def area(self,x,y):\n",
    "       \n",
    "        a=x*y\n",
    "        return a\n",
    "    def volume(self,x,y,z):\n",
    "        v=x*y*z\n",
    "        \n",
    "l=int(input(\"enter l=\")) \n",
    "b=int(input(\"enter b=\"))\n",
    "h=int(input(\"enter h=\"))\n",
    "obj=cal()\n",
    "print(obj.area(l,b))\n",
    "print(obj.volume(l,b,h))"
   ]
  },
  {
   "cell_type": "code",
   "execution_count": 4,
   "id": "55bc425f",
   "metadata": {},
   "outputs": [
    {
     "name": "stdout",
     "output_type": "stream",
     "text": [
      "enter l=100\n",
      "enter b=23\n",
      "enter h=2\n",
      "2300\n",
      "4600\n"
     ]
    }
   ],
   "source": [
    "class area:\n",
    "    def area(self,x,y):\n",
    "       \n",
    "        a=x*y\n",
    "        return a\n",
    "class volume:\n",
    "    def volume(self,x,y,z):\n",
    "        v=x*y*z\n",
    "        return v\n",
    "\n",
    "l=int(input(\"enter l=\")) \n",
    "b=int(input(\"enter b=\"))\n",
    "h=int(input(\"enter h=\"))\n",
    "obj1=area()\n",
    "obj2=volume()\n",
    "print(obj1.area(l,b))\n",
    "print(obj2.volume(l,b,h))"
   ]
  },
  {
   "cell_type": "code",
   "execution_count": 6,
   "id": "9387c968",
   "metadata": {},
   "outputs": [
    {
     "name": "stdout",
     "output_type": "stream",
     "text": [
      "enter l=100\n",
      "enter b=23\n",
      "enter h=2\n",
      "2300\n",
      "4600\n"
     ]
    }
   ],
   "source": [
    "class cal:\n",
    "    def __init__(self,l,b,h):\n",
    "        self.l=l\n",
    "        self.b=b\n",
    "        self.h=h\n",
    "    def area(self):\n",
    "        a=self.l*self.b\n",
    "        return a\n",
    "    def volume(self):\n",
    "        v=self.l*self.b*self.h\n",
    "        return v\n",
    "l=int(input(\"enter l=\")) \n",
    "b=int(input(\"enter b=\"))\n",
    "h=int(input(\"enter h=\"))\n",
    "obj=cal(l,b,h)\n",
    "print(obj.area())\n",
    "print(obj.volume())"
   ]
  },
  {
   "cell_type": "code",
   "execution_count": 7,
   "id": "914336e7",
   "metadata": {},
   "outputs": [
    {
     "name": "stdout",
     "output_type": "stream",
     "text": [
      "enter l=10\n",
      "enter b=2\n",
      "enter h=3\n",
      "enter r=4\n",
      "50.24\n",
      "60\n"
     ]
    }
   ],
   "source": [
    "class cal:\n",
    "    def __init__(self,l,b,h):\n",
    "        self.l=l\n",
    "        self.b=b\n",
    "        self.h=h\n",
    "    def area(self):\n",
    "        a=self.l*self.b\n",
    "        return a\n",
    "    def volume(self):\n",
    "        v=self.l*self.b*self.h\n",
    "        return v\n",
    "    @staticmethod\n",
    "    def area():\n",
    "        r=int(input(\"enter r=\"))\n",
    "        a=3.14*(r**2)\n",
    "        return a\n",
    "l=int(input(\"enter l=\")) \n",
    "b=int(input(\"enter b=\"))\n",
    "h=int(input(\"enter h=\"))\n",
    "obj=cal(l,b,h)\n",
    "print(obj.area())\n",
    "print(obj.volume())"
   ]
  },
  {
   "cell_type": "code",
   "execution_count": null,
   "id": "2fc14410",
   "metadata": {},
   "outputs": [],
   "source": [
    "class volume:\n",
    "    def __init__(self,l,b,h):\n",
    "        self.l=l\n",
    "        self.b=b\n",
    "        self.h=h\n",
    "    def volume(self):\n",
    "        v= self.l*self.b*h\n",
    "        return v\n",
    "class area:\n",
    "    def __init__(self,l,b):\n",
    "        self.l=l\n",
    "        self.b=b\n",
    "    def area(self):\n",
    "        a=self.l*self.b\n",
    "        return a\n",
    "l=int(input(\"enter l=\")) \n",
    "b=int(input(\"enter b=\"))\n",
    "h=int(input(\"enter h=\"))\n",
    "obj1= volume(l,b,h)\n",
    "obj2= area(l,b)\n",
    "v= obj1.volume()\n",
    "a= obj2.area()\n",
    "print(v)\n",
    "        \n",
    "        "
   ]
  },
  {
   "cell_type": "code",
   "execution_count": 2,
   "id": "9b499c4e",
   "metadata": {},
   "outputs": [
    {
     "name": "stdout",
     "output_type": "stream",
     "text": [
      "ram\n",
      "<class '__main__.information'>\n"
     ]
    }
   ],
   "source": [
    "class information:\n",
    "    def __init__(self,name,age,add):\n",
    "        self.name= name\n",
    "        self.add= add\n",
    "        self.age= age\n",
    "    def __str__(self):\n",
    "        return self.name\n",
    "obj= information(\"ram\",23,\"kathmandu\")\n",
    "print(obj)\n",
    "print(type(obj))"
   ]
  },
  {
   "cell_type": "code",
   "execution_count": 4,
   "id": "7a066121",
   "metadata": {},
   "outputs": [
    {
     "name": "stdout",
     "output_type": "stream",
     "text": [
      "ram\n",
      "ram\n",
      "ramshyam\n"
     ]
    }
   ],
   "source": [
    "class information:\n",
    "    def __init__(self,name,age,add):\n",
    "        self.name= name\n",
    "        self.add= add\n",
    "        self.age= age\n",
    "    def __str__(self):\n",
    "        return self.name\n",
    "obj= information(\"ram\",23,\"kathmandu\")\n",
    "print(obj)\n",
    "print(obj.__str__())\n",
    "print(str(obj)+\"shyam\")"
   ]
  },
  {
   "cell_type": "code",
   "execution_count": 6,
   "id": "fd6d742f",
   "metadata": {},
   "outputs": [
    {
     "name": "stdout",
     "output_type": "stream",
     "text": [
      "{'name': 'ram', 'age': 23, 'add': 'kathmandu'}\n"
     ]
    }
   ],
   "source": [
    "class information:\n",
    "    def __init__(self,name,age,add):\n",
    "        self.name= name\n",
    "        self.add= add\n",
    "        self.age= age\n",
    "    def __repr__(self):\n",
    "        return {'name':self.name,'age':self.age,'add':self.add}\n",
    "obj= information(\"ram\",23,\"kathmandu\")\n",
    "print(obj.__repr__())"
   ]
  },
  {
   "cell_type": "code",
   "execution_count": 7,
   "id": "31eadae0",
   "metadata": {},
   "outputs": [
    {
     "name": "stdout",
     "output_type": "stream",
     "text": [
      "1000\n",
      "2000\n"
     ]
    }
   ],
   "source": [
    "class price:\n",
    "    def __init__(self,x):\n",
    "        self.x=x\n",
    "obj=price(1000)\n",
    "obj1=price(2000)\n",
    "print(obj.x)\n",
    "print(obj1.x)"
   ]
  },
  {
   "cell_type": "code",
   "execution_count": 8,
   "id": "ccf469da",
   "metadata": {},
   "outputs": [
    {
     "name": "stdout",
     "output_type": "stream",
     "text": [
      "this is init method 2 3\n",
      "this is init method -1 2\n",
      "i am in add function 1 5\n",
      "this is init method 1 5\n",
      "1 5\n"
     ]
    }
   ],
   "source": [
    "class point:\n",
    "    def __init__(self,x=0,y=0):\n",
    "        self.x=x\n",
    "        self.y=y\n",
    "        print(\"this is init method\",self.x,self.y)\n",
    "    def __str__(self):\n",
    "        return f\"{self.x} {self.y}\"\n",
    "    def __add__(self,other):\n",
    "        x=self.x+other.x\n",
    "        y=self.y+other.y\n",
    "        print(\"i am in add function\",x,y)\n",
    "        return point(x,y)\n",
    "p1=point(2,3)\n",
    "p2=point(-1,2)\n",
    "print(p1+p2)"
   ]
  },
  {
   "cell_type": "code",
   "execution_count": 11,
   "id": "b1151937",
   "metadata": {},
   "outputs": [
    {
     "name": "stdout",
     "output_type": "stream",
     "text": [
      "this is init method 2000\n",
      "this is init method 1000\n",
      "this is init method 2500\n",
      "i am in add function 3000\n",
      "this is init method 3000\n",
      "i am in add function 5500\n",
      "this is init method 5500\n",
      "5500\n"
     ]
    }
   ],
   "source": [
    "class point:\n",
    "    def __init__(self,x=0):\n",
    "        self.x=x\n",
    "        print(\"this is init method\",self.x)\n",
    "    def __str__(self):\n",
    "        return f\"{self.x}\"\n",
    "    def __add__(self,other):\n",
    "        x=self.x+other.x\n",
    "        print(\"i am in add function\",x)\n",
    "        return point(x)\n",
    "p1=point(2000)\n",
    "p2=point(1000)\n",
    "p3=point(2500)\n",
    "print(p1+p2+p3)"
   ]
  },
  {
   "cell_type": "code",
   "execution_count": null,
   "id": "a21b5465",
   "metadata": {},
   "outputs": [],
   "source": []
  }
 ],
 "metadata": {
  "kernelspec": {
   "display_name": "Python 3 (ipykernel)",
   "language": "python",
   "name": "python3"
  },
  "language_info": {
   "codemirror_mode": {
    "name": "ipython",
    "version": 3
   },
   "file_extension": ".py",
   "mimetype": "text/x-python",
   "name": "python",
   "nbconvert_exporter": "python",
   "pygments_lexer": "ipython3",
   "version": "3.9.7"
  }
 },
 "nbformat": 4,
 "nbformat_minor": 5
}
