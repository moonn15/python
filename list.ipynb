{
 "cells": [
  {
   "cell_type": "code",
   "execution_count": null,
   "id": "1e92dc88",
   "metadata": {},
   "outputs": [],
   "source": [
    "# list \n",
    "# tuple\n",
    "# dictionary\n",
    "# set"
   ]
  },
  {
   "cell_type": "code",
   "execution_count": 1,
   "id": "663ca27c",
   "metadata": {},
   "outputs": [
    {
     "name": "stdout",
     "output_type": "stream",
     "text": [
      "<class 'list'>\n"
     ]
    }
   ],
   "source": [
    "l= list()\n",
    "lis=[]\n",
    "print(type(l))"
   ]
  },
  {
   "cell_type": "code",
   "execution_count": 2,
   "id": "73cc31a2",
   "metadata": {},
   "outputs": [
    {
     "data": {
      "text/plain": [
       "list"
      ]
     },
     "execution_count": 2,
     "metadata": {},
     "output_type": "execute_result"
    }
   ],
   "source": [
    "data=[1,2,3,4,5,6]\n",
    "type(data)"
   ]
  },
  {
   "cell_type": "code",
   "execution_count": 9,
   "id": "02bb0d82",
   "metadata": {},
   "outputs": [
    {
     "data": {
      "text/plain": [
       "'apple'"
      ]
     },
     "execution_count": 9,
     "metadata": {},
     "output_type": "execute_result"
    }
   ],
   "source": [
    "data=[\"apple\",\"ball\",\"cat\"]\n",
    "data[0]"
   ]
  },
  {
   "cell_type": "code",
   "execution_count": 10,
   "id": "84d9d48b",
   "metadata": {},
   "outputs": [
    {
     "name": "stdout",
     "output_type": "stream",
     "text": [
      "['apple', 'ball', 'cat']\n"
     ]
    }
   ],
   "source": [
    "data=[\"apple\",\"ball\",\"cat\"]\n",
    "print(data)"
   ]
  },
  {
   "cell_type": "code",
   "execution_count": 11,
   "id": "0236e4ae",
   "metadata": {},
   "outputs": [
    {
     "name": "stdout",
     "output_type": "stream",
     "text": [
      "['dog', 'apple', 'ball', 'cat']\n"
     ]
    }
   ],
   "source": [
    "data=[\"apple\",\"ball\",\"cat\"]   #ordered list\n",
    "data1=[\"dog\"]\n",
    "print(data1+data)"
   ]
  },
  {
   "cell_type": "code",
   "execution_count": 12,
   "id": "043f98d5",
   "metadata": {},
   "outputs": [
    {
     "name": "stdout",
     "output_type": "stream",
     "text": [
      "[1, 2, 3, 4, 1, 2, 3, 4]\n"
     ]
    }
   ],
   "source": [
    "a =[1,2,3,4]\n",
    "print(a*2)"
   ]
  },
  {
   "cell_type": "code",
   "execution_count": 13,
   "id": "563b1984",
   "metadata": {},
   "outputs": [
    {
     "data": {
      "text/plain": [
       "['Apple', 'ball', 'cat']"
      ]
     },
     "execution_count": 13,
     "metadata": {},
     "output_type": "execute_result"
    }
   ],
   "source": [
    "data=[\"apple\",\"ball\",\"cat\"]\n",
    "data[0]=\"Apple\"\n",
    "data"
   ]
  },
  {
   "cell_type": "code",
   "execution_count": 14,
   "id": "6b766568",
   "metadata": {},
   "outputs": [
    {
     "data": {
      "text/plain": [
       "[1, 3, 5, 7]"
      ]
     },
     "execution_count": 14,
     "metadata": {},
     "output_type": "execute_result"
    }
   ],
   "source": [
    "data=[1,2,3,4,5,6,7,8,9]\n",
    "data[0:8:2]"
   ]
  },
  {
   "cell_type": "code",
   "execution_count": 16,
   "id": "9da2ded6",
   "metadata": {},
   "outputs": [
    {
     "name": "stdout",
     "output_type": "stream",
     "text": [
      "enter n=5\n",
      "enter x=plant\n",
      "enter x=ball\n",
      "enter x=fish\n",
      "enter x=toy\n",
      "enter x=food\n",
      "['plant', 'ball', 'fish', 'toy', 'food']\n"
     ]
    }
   ],
   "source": [
    "data=[]\n",
    "n=int(input(\"enter n=\"))\n",
    "for i in range(n):\n",
    "    x=input(\"enter x=\")\n",
    "    data=data+[x]\n",
    "print(data)\n",
    "    "
   ]
  },
  {
   "cell_type": "code",
   "execution_count": 17,
   "id": "e414a490",
   "metadata": {},
   "outputs": [
    {
     "name": "stdout",
     "output_type": "stream",
     "text": [
      "apple\n",
      "ball\n",
      "cat\n"
     ]
    }
   ],
   "source": [
    "data=[\"apple\",\"ball\",\"cat\"]\n",
    "for i in data:\n",
    "    print(i)"
   ]
  },
  {
   "cell_type": "code",
   "execution_count": 21,
   "id": "7ccd63ba",
   "metadata": {},
   "outputs": [
    {
     "name": "stdout",
     "output_type": "stream",
     "text": [
      "ball\n",
      "cat\n",
      "banana\n"
     ]
    }
   ],
   "source": [
    "data=[\"apple\",\"ball\",\"cat\",\"apple\",\"banana\"]\n",
    "for i in data:\n",
    "    if i ==\"apple\":\n",
    "        continue\n",
    "    print(i)\n"
   ]
  },
  {
   "cell_type": "code",
   "execution_count": 25,
   "id": "abc44a8c",
   "metadata": {},
   "outputs": [
    {
     "name": "stdout",
     "output_type": "stream",
     "text": [
      "enter n=4\n",
      "enter x=8\n",
      "enter x=5\n",
      "enter x=6\n",
      "enter x=2\n",
      "[8, 5, 6, 2]\n"
     ]
    }
   ],
   "source": [
    "data=[]\n",
    "n=int(input(\"enter n=\"))\n",
    "for i in range(n):\n",
    "    x=int(input(\"enter x=\"))\n",
    "    data=data+[x]\n",
    "print(data)\n",
    "    "
   ]
  },
  {
   "cell_type": "code",
   "execution_count": 29,
   "id": "9639fd16",
   "metadata": {},
   "outputs": [
    {
     "name": "stdout",
     "output_type": "stream",
     "text": [
      "max value= 8\n",
      "min value= 2\n",
      "the sum = 21\n",
      "the average = 5.25\n",
      "[2, 5, 6, 8]\n",
      "[8, 6, 5, 2]\n"
     ]
    }
   ],
   "source": [
    "print(\"max value=\",max(data))\n",
    "print(\"min value=\",min(data))\n",
    "print(\"the sum =\",sum(data))\n",
    "print(\"the average =\",sum(data)/n)\n",
    "data.sort()\n",
    "print(data)\n",
    "data.reverse()\n",
    "print(data)\n",
    "\n"
   ]
  },
  {
   "cell_type": "code",
   "execution_count": 33,
   "id": "c08a4253",
   "metadata": {},
   "outputs": [
    {
     "name": "stdout",
     "output_type": "stream",
     "text": [
      "['1Zebra', 'Apple', 'Ball', 'Fish']\n",
      "['Fish', 'Ball', 'Apple', '1Zebra']\n"
     ]
    }
   ],
   "source": [
    "data=[\"Apple\",\"1Zebra\",\"Ball\",\"Fish\"] #suru ma integer kita special character ani captial last ma small\n",
    "data.sort()\n",
    "print(data)\n",
    "data.reverse()\n",
    "print(data)"
   ]
  },
  {
   "cell_type": "code",
   "execution_count": 35,
   "id": "b8100be5",
   "metadata": {},
   "outputs": [
    {
     "name": "stdout",
     "output_type": "stream",
     "text": [
      "5\n",
      "2\n"
     ]
    }
   ],
   "source": [
    "data=[\"Apple\",\"Zebra\",\"Ball\",\"Fish\",\"Ball\"]\n",
    "print(len(data))\n",
    "print(data.count(\"Ball\"))"
   ]
  },
  {
   "cell_type": "code",
   "execution_count": 36,
   "id": "cf8d81a4",
   "metadata": {},
   "outputs": [
    {
     "name": "stdout",
     "output_type": "stream",
     "text": [
      "Apple\n",
      "Zebra\n",
      "Ball\n",
      "Fish\n",
      "Ball\n"
     ]
    }
   ],
   "source": [
    "for i in range(len(data)):\n",
    "    print(data[i])"
   ]
  },
  {
   "cell_type": "code",
   "execution_count": 37,
   "id": "a073d0f8",
   "metadata": {},
   "outputs": [
    {
     "name": "stdout",
     "output_type": "stream",
     "text": [
      "2\n",
      "4\n"
     ]
    }
   ],
   "source": [
    "for i in range(len(data)):\n",
    "    if data[i]==\"Ball\":\n",
    "        print(i)"
   ]
  },
  {
   "cell_type": "code",
   "execution_count": 3,
   "id": "01ca9bde",
   "metadata": {},
   "outputs": [
    {
     "name": "stdout",
     "output_type": "stream",
     "text": [
      "enter c=3\n",
      "enter r=3\n",
      "enter x=1\n",
      "enter x=2\n",
      "enter x=3\n",
      "enter x=4\n",
      "enter x=5\n",
      "enter x=6\n",
      "enter x=7\n",
      "enter x=8\n",
      "enter x=9\n",
      "[[1, 2, 3], [4, 5, 6], [7, 8, 9]]\n"
     ]
    }
   ],
   "source": [
    "# matrix\n",
    "a=[]\n",
    "c=int(input(\"enter c=\"))\n",
    "r=int(input(\"enter r=\"))\n",
    "for i in range(r):\n",
    "    b=[]\n",
    "    for j in range(c):\n",
    "        x=int(input(\"enter x=\"))\n",
    "        b.append(x)\n",
    "    a.append(b)\n",
    "print(a)"
   ]
  },
  {
   "cell_type": "code",
   "execution_count": 4,
   "id": "c21782bc",
   "metadata": {},
   "outputs": [
    {
     "name": "stdout",
     "output_type": "stream",
     "text": [
      "[['Apple', '200', '3', '600'], ['Banana', '100', '2', '200']]\n"
     ]
    }
   ],
   "source": [
    "# wap to change\n",
    "# ['Apple 200 3 600','Banana 100 2 200']\n",
    "# to\n",
    "# [['Apple','200','3','600'],['Banana','100','2','200']]\n",
    "b=[]\n",
    "a=['Apple 200 3 600','Banana 100 2 200']\n",
    "for i in a:\n",
    "    x=i.split()\n",
    "    b.append(x)\n",
    "print(b)"
   ]
  },
  {
   "cell_type": "code",
   "execution_count": 6,
   "id": "07be8465",
   "metadata": {},
   "outputs": [
    {
     "data": {
      "text/plain": [
       "[['Apple', 200, 3, '600'], ['Banana', '100', '2', '200']]"
      ]
     },
     "execution_count": 6,
     "metadata": {},
     "output_type": "execute_result"
    }
   ],
   "source": [
    "a=[['Apple','200','3','600'],['Banana','100','2','200']]\n",
    "a[0][1]=int(a[0][1])\n",
    "a[0][2]=int(a[0][2])\n",
    "a"
   ]
  },
  {
   "cell_type": "code",
   "execution_count": null,
   "id": "1ee37ce5",
   "metadata": {},
   "outputs": [],
   "source": []
  }
 ],
 "metadata": {
  "kernelspec": {
   "display_name": "Python 3 (ipykernel)",
   "language": "python",
   "name": "python3"
  },
  "language_info": {
   "codemirror_mode": {
    "name": "ipython",
    "version": 3
   },
   "file_extension": ".py",
   "mimetype": "text/x-python",
   "name": "python",
   "nbconvert_exporter": "python",
   "pygments_lexer": "ipython3",
   "version": "3.9.7"
  }
 },
 "nbformat": 4,
 "nbformat_minor": 5
}
