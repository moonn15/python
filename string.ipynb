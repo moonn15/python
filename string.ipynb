{
 "cells": [
  {
   "cell_type": "code",
   "execution_count": 1,
   "id": "7f611493",
   "metadata": {},
   "outputs": [
    {
     "name": "stdout",
     "output_type": "stream",
     "text": [
      "hlowr\n"
     ]
    }
   ],
   "source": [
    "a=\"hello world\"\n",
    "print(a[0:10:2])"
   ]
  },
  {
   "cell_type": "code",
   "execution_count": 4,
   "id": "6195b4d1",
   "metadata": {},
   "outputs": [
    {
     "name": "stdout",
     "output_type": "stream",
     "text": [
      "dlrow\n"
     ]
    }
   ],
   "source": [
    "a=\"hello world\"\n",
    "l=len(a)\n",
    "print(a[l::-1])"
   ]
  },
  {
   "cell_type": "code",
   "execution_count": 5,
   "id": "e4f8c991",
   "metadata": {},
   "outputs": [
    {
     "data": {
      "text/plain": [
       "'m'"
      ]
     },
     "execution_count": 5,
     "metadata": {},
     "output_type": "execute_result"
    }
   ],
   "source": [
    "a=\"am\"\n",
    "l=len(a)-1\n",
    "a[1]\n"
   ]
  },
  {
   "cell_type": "code",
   "execution_count": 8,
   "id": "29cbe686",
   "metadata": {},
   "outputs": [
    {
     "name": "stdout",
     "output_type": "stream",
     "text": [
      "0 h\n",
      "1 e\n",
      "2 l\n",
      "3 l\n",
      "4 o\n",
      "5  \n",
      "6 w\n",
      "7 o\n",
      "8 r\n",
      "9 l\n",
      "10 d\n"
     ]
    }
   ],
   "source": [
    "a=\"hello world\"\n",
    "l=len(a)\n",
    "for i in range(l):\n",
    "    print(i,a[i])"
   ]
  },
  {
   "cell_type": "code",
   "execution_count": 9,
   "id": "3ac38ee7",
   "metadata": {},
   "outputs": [
    {
     "name": "stdout",
     "output_type": "stream",
     "text": [
      "enter n=2\n",
      "enter name=ram\n",
      "enter phone=09934984\n",
      "enter name=shyam\n",
      "enter phone=90384957\n",
      "ram 9934984\n",
      "shyam 90384957\n",
      "\n"
     ]
    }
   ],
   "source": [
    "# string formatting\n",
    "s=\"\"\n",
    "n = int(input(\"enter n=\"))\n",
    "for i in range(n):\n",
    "    name= input(\"enter name=\")\n",
    "    phone=int(input(\"enter phone=\"))\n",
    "    info= f\"{name} {phone}\\n\"\n",
    "    s=s+info\n",
    "print(s)"
   ]
  },
  {
   "cell_type": "code",
   "execution_count": 10,
   "id": "b8e7a34e",
   "metadata": {},
   "outputs": [
    {
     "name": "stdout",
     "output_type": "stream",
     "text": [
      "hello world i am ram, my phone no is 908438438\n"
     ]
    }
   ],
   "source": [
    "name=\"ram\"\n",
    "phone=908438438\n",
    "info=f\"hello world i am {name}, my phone no is {phone}\"\n",
    "print(info)"
   ]
  },
  {
   "cell_type": "code",
   "execution_count": null,
   "id": "ed40c2f0",
   "metadata": {},
   "outputs": [],
   "source": [
    "# replace()\n",
    "# search()\n",
    "# uppercase\n",
    "# lowercase"
   ]
  },
  {
   "cell_type": "code",
   "execution_count": 1,
   "id": "63e1457b",
   "metadata": {},
   "outputs": [
    {
     "data": {
      "text/plain": [
       "'HELLO WORLD'"
      ]
     },
     "execution_count": 1,
     "metadata": {},
     "output_type": "execute_result"
    }
   ],
   "source": [
    "a=\"hello world\"\n",
    "a.upper()"
   ]
  },
  {
   "cell_type": "code",
   "execution_count": 4,
   "id": "3dd4a030",
   "metadata": {},
   "outputs": [
    {
     "name": "stdout",
     "output_type": "stream",
     "text": [
      "Apple\n"
     ]
    }
   ],
   "source": [
    "a =\"Apple\"\n",
    "b =a[0].upper()+a[1:]\n",
    "print(b)"
   ]
  },
  {
   "cell_type": "code",
   "execution_count": 2,
   "id": "a35eb366",
   "metadata": {},
   "outputs": [
    {
     "name": "stdout",
     "output_type": "stream",
     "text": [
      "enter name =ram\n",
      "no\n"
     ]
    }
   ],
   "source": [
    "a =\"Ram Shyam Hari Gita Gita\"\n",
    "name= input(\"enter name =\")\n",
    "if name in a:\n",
    "    print(\"yes\",a.count(name))\n",
    "else:\n",
    "    print(\"no\")\n"
   ]
  },
  {
   "cell_type": "code",
   "execution_count": 3,
   "id": "7fb4896e",
   "metadata": {},
   "outputs": [
    {
     "name": "stdout",
     "output_type": "stream",
     "text": [
      "enter name =ram\n",
      "yes 1\n"
     ]
    }
   ],
   "source": [
    "a =\"Ram Shyam Hari Gita Gita\"\n",
    "a_lower=a.lower()\n",
    "name= input(\"enter name =\")\n",
    "name_lower=name.lower()\n",
    "if name_lower in a_lower:\n",
    "    print(\"yes\",a_lower.count(name_lower))\n",
    "else:\n",
    "    print(\"no\")\n"
   ]
  },
  {
   "cell_type": "code",
   "execution_count": 5,
   "id": "9b2ed559",
   "metadata": {},
   "outputs": [
    {
     "data": {
      "text/plain": [
       "'ram Shyam Hari Gita Gita'"
      ]
     },
     "execution_count": 5,
     "metadata": {},
     "output_type": "execute_result"
    }
   ],
   "source": [
    "a =\"Ram Shyam Hari Gita Gita\"\n",
    "a.replace('Ram','ram')"
   ]
  },
  {
   "cell_type": "code",
   "execution_count": 6,
   "id": "65e0906d",
   "metadata": {},
   "outputs": [
    {
     "name": "stdout",
     "output_type": "stream",
     "text": [
      " Shyam Hari Gita Gita\n"
     ]
    }
   ],
   "source": [
    "a =\"Ram Shyam Hari Gita Gita\"\n",
    "b = a.replace('Ram','')\n",
    "print(b)"
   ]
  },
  {
   "cell_type": "code",
   "execution_count": 7,
   "id": "e666d266",
   "metadata": {},
   "outputs": [
    {
     "name": "stdout",
     "output_type": "stream",
     "text": [
      "enter n=2\n",
      "enter name=ram\n",
      "enter phone=6094895\n",
      "enter name=shyam\n",
      "enter phone=86498403\n",
      "ram 6094895\n",
      "shyam 86498403\n",
      "\n"
     ]
    }
   ],
   "source": [
    "s=\"\"\n",
    "n = int(input(\"enter n=\"))\n",
    "for i in range(n):\n",
    "    name= input(\"enter name=\")\n",
    "    phone=int(input(\"enter phone=\"))\n",
    "    info= f\"{name} {phone}\\n\"\n",
    "    s=s+info\n",
    "print(s)"
   ]
  },
  {
   "cell_type": "code",
   "execution_count": 11,
   "id": "f76488f2",
   "metadata": {},
   "outputs": [],
   "source": [
    "x=s.split('\\n')"
   ]
  },
  {
   "cell_type": "code",
   "execution_count": 9,
   "id": "13da6f3b",
   "metadata": {},
   "outputs": [
    {
     "data": {
      "text/plain": [
       "'ram 6094895'"
      ]
     },
     "execution_count": 9,
     "metadata": {},
     "output_type": "execute_result"
    }
   ],
   "source": [
    "x[0]"
   ]
  },
  {
   "cell_type": "code",
   "execution_count": 4,
   "id": "109683e2",
   "metadata": {},
   "outputs": [
    {
     "name": "stdout",
     "output_type": "stream",
     "text": [
      "enter n=2\n",
      "enter subject =science\n",
      "enter marks =40\n",
      "enter subject =maths\n",
      "enter marks =40\n",
      "science 40\n",
      "maths 40\n",
      "\n",
      "20.0\n",
      "failed\n"
     ]
    }
   ],
   "source": [
    "# string formatting\n",
    "s=\"\"\n",
    "t=0\n",
    "n = int(input(\"enter n=\"))\n",
    "for i in range(n):\n",
    "    subject= input(\"enter subject =\")\n",
    "    marks=int(input(\"enter marks =\"))\n",
    "    info= f\"{subject} {marks}\\n\"\n",
    "    s=s+info\n",
    "print(s)\n",
    "total = t+marks \n",
    "percentage = total/n\n",
    "print (percentage)\n",
    "if percentage == 100:\n",
    "    print(\"gpa = 4.0\")\n",
    "elif percentage > 90:\n",
    "    print(\"gpa = 3.6\")\n",
    "elif percentage >80:\n",
    "    print(\"gpa = 3.0\")\n",
    "elif percentage >70:\n",
    "    print(\"gpa = 2.6\")\n",
    "elif percentage >60:\n",
    "    print(\"gpa = 2.0\")\n",
    "elif percentage >50:\n",
    "    print(\"gpa = 1.9\")\n",
    "elif percentage >40:\n",
    "    print(\"gpa = 1.3\")\n",
    "else:\n",
    "    print(\"failed\")\n"
   ]
  },
  {
   "cell_type": "code",
   "execution_count": null,
   "id": "f770347a",
   "metadata": {},
   "outputs": [],
   "source": []
  }
 ],
 "metadata": {
  "kernelspec": {
   "display_name": "Python 3 (ipykernel)",
   "language": "python",
   "name": "python3"
  },
  "language_info": {
   "codemirror_mode": {
    "name": "ipython",
    "version": 3
   },
   "file_extension": ".py",
   "mimetype": "text/x-python",
   "name": "python",
   "nbconvert_exporter": "python",
   "pygments_lexer": "ipython3",
   "version": "3.9.7"
  }
 },
 "nbformat": 4,
 "nbformat_minor": 5
}
