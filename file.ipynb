{
 "cells": [
  {
   "cell_type": "code",
   "execution_count": 1,
   "id": "c35afbbc",
   "metadata": {},
   "outputs": [],
   "source": [
    "# file=open(<file_name>,<mode>)\n",
    "# file.close()"
   ]
  },
  {
   "cell_type": "code",
   "execution_count": 2,
   "id": "deecd755",
   "metadata": {},
   "outputs": [],
   "source": [
    "# modes\n",
    "# r=read\n",
    "# w=write\n",
    "# a=append\n",
    "# x=create"
   ]
  },
  {
   "cell_type": "code",
   "execution_count": 3,
   "id": "cb7fe2ea",
   "metadata": {},
   "outputs": [],
   "source": [
    "file=open('data.txt','x')\n",
    "file.close()"
   ]
  },
  {
   "cell_type": "code",
   "execution_count": 2,
   "id": "3e156a75",
   "metadata": {},
   "outputs": [
    {
     "name": "stdout",
     "output_type": "stream",
     "text": [
      "1.hello world\n",
      "2.hello world\n",
      "3.hello world\n",
      "4.hello world\n",
      "5.hello world\n",
      "\n"
     ]
    }
   ],
   "source": [
    "file=open('data.txt','r')\n",
    "print(file.read())       or    #data=file.read()\n",
    "file.close()                   #print(data)"
   ]
  },
  {
   "cell_type": "code",
   "execution_count": 5,
   "id": "084c3447",
   "metadata": {},
   "outputs": [
    {
     "name": "stdout",
     "output_type": "stream",
     "text": [
      "1.hello world\n",
      "2.hello world\n",
      "3.hello world\n",
      "4.hello world\n",
      "5.hello world\n",
      "\n"
     ]
    }
   ],
   "source": [
    "file=open('data.txt','r')\n",
    "data=file.read()\n",
    "print(data)\n",
    "file.close()       "
   ]
  },
  {
   "cell_type": "code",
   "execution_count": 7,
   "id": "74f82e8e",
   "metadata": {},
   "outputs": [
    {
     "data": {
      "text/plain": [
       "['1.hello world',\n",
       " '2.hello world',\n",
       " '3.hello world',\n",
       " '4.hello world',\n",
       " '5.hello world',\n",
       " '']"
      ]
     },
     "execution_count": 7,
     "metadata": {},
     "output_type": "execute_result"
    }
   ],
   "source": [
    "data.split('\\n')"
   ]
  },
  {
   "cell_type": "code",
   "execution_count": 10,
   "id": "d84c4ea4",
   "metadata": {},
   "outputs": [],
   "source": [
    "main_data=data.split('\\n')"
   ]
  },
  {
   "cell_type": "markdown",
   "id": "279615d5",
   "metadata": {},
   "source": []
  },
  {
   "cell_type": "code",
   "execution_count": 9,
   "id": "5b8f4e1f",
   "metadata": {},
   "outputs": [
    {
     "data": {
      "text/plain": [
       "'3.hello world'"
      ]
     },
     "execution_count": 9,
     "metadata": {},
     "output_type": "execute_result"
    }
   ],
   "source": [
    " main_data[2]"
   ]
  },
  {
   "cell_type": "markdown",
   "id": "c9ca8504",
   "metadata": {},
   "source": []
  },
  {
   "cell_type": "code",
   "execution_count": 5,
   "id": "783f6680",
   "metadata": {},
   "outputs": [
    {
     "name": "stdout",
     "output_type": "stream",
     "text": [
      "enter n=2\n",
      "enter name=mohini\n",
      "enter phone=98765421\n",
      "enter name=moon\n",
      "enter phone=986554312\n",
      "mohini,98765421\n",
      "moon,986554312\n",
      "\n"
     ]
    }
   ],
   "source": [
    "s=\"\"\n",
    "n = int(input(\"enter n=\"))\n",
    "file=open('data.csv','w') #a=append\n",
    "for i in range(n):\n",
    "    name= input(\"enter name=\")\n",
    "    phone=int(input(\"enter phone=\"))\n",
    "    info= f\"{name},{phone}\\n\"\n",
    "    s=s+info\n",
    "print(s)\n",
    "file.write('name,phone\\n')\n",
    "file.write(s)\n",
    "file.close()"
   ]
  },
  {
   "cell_type": "code",
   "execution_count": 4,
   "id": "1338ee20",
   "metadata": {},
   "outputs": [
    {
     "name": "stdout",
     "output_type": "stream",
     "text": [
      "mohini 986453232\n",
      "moon 9876154323\n",
      "\n",
      "\n",
      "moon 9876154323\n",
      "\n"
     ]
    }
   ],
   "source": [
    "print(s)\n",
    "new_data=s.replace('mohini 986453232','')\n",
    "print(new_data)\n",
    "b=open('data.csv','w')\n",
    "b.write(new_data)\n",
    "b.close()"
   ]
  },
  {
   "cell_type": "code",
   "execution_count": null,
   "id": "b180e4c7",
   "metadata": {},
   "outputs": [],
   "source": []
  }
 ],
 "metadata": {
  "kernelspec": {
   "display_name": "Python 3 (ipykernel)",
   "language": "python",
   "name": "python3"
  },
  "language_info": {
   "codemirror_mode": {
    "name": "ipython",
    "version": 3
   },
   "file_extension": ".py",
   "mimetype": "text/x-python",
   "name": "python",
   "nbconvert_exporter": "python",
   "pygments_lexer": "ipython3",
   "version": "3.9.7"
  }
 },
 "nbformat": 4,
 "nbformat_minor": 5
}
