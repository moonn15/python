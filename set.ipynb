{
 "cells": [
  {
   "cell_type": "code",
   "execution_count": 1,
   "id": "fe189a69",
   "metadata": {},
   "outputs": [],
   "source": [
    "# set\n",
    "# -not indexed\n",
    "# -no duplicate values\n",
    "# -unordered\n",
    "# -mutable"
   ]
  },
  {
   "cell_type": "code",
   "execution_count": 2,
   "id": "7466c33f",
   "metadata": {},
   "outputs": [
    {
     "name": "stdout",
     "output_type": "stream",
     "text": [
      "{'ball', 'cat', 'apple'}\n"
     ]
    }
   ],
   "source": [
    "s=set()\n",
    "a={\"apple\",\"ball\",\"cat\"} #This shows us that set is unordered\n",
    "print(a)"
   ]
  },
  {
   "cell_type": "code",
   "execution_count": 3,
   "id": "693fc7b5",
   "metadata": {},
   "outputs": [
    {
     "name": "stdout",
     "output_type": "stream",
     "text": [
      "{'ball', 'cat', 'apple'}\n"
     ]
    }
   ],
   "source": [
    "a={\"apple\",\"ball\",\"cat\",\"apple\"} #this shows set has no duplicate value \n",
    "print(a)"
   ]
  },
  {
   "cell_type": "code",
   "execution_count": 4,
   "id": "b9c53214",
   "metadata": {},
   "outputs": [
    {
     "name": "stdout",
     "output_type": "stream",
     "text": [
      "{'goat', 'ball', 'cat', 'apple'}\n"
     ]
    }
   ],
   "source": [
    "a={\"apple\",\"ball\",\"cat\"}\n",
    "a.update({\"goat\"})\n",
    "print(a)"
   ]
  },
  {
   "cell_type": "code",
   "execution_count": 5,
   "id": "51950d46",
   "metadata": {},
   "outputs": [
    {
     "data": {
      "text/plain": [
       "{'apple', 'ball', 'cat', 'goat'}"
      ]
     },
     "execution_count": 5,
     "metadata": {},
     "output_type": "execute_result"
    }
   ],
   "source": [
    "a={\"apple\",\"ball\",\"cat\"}\n",
    "a.add(\"goat\")             #this shows it is mutable\n",
    "a"
   ]
  },
  {
   "cell_type": "code",
   "execution_count": 7,
   "id": "30dc8483",
   "metadata": {},
   "outputs": [
    {
     "name": "stdout",
     "output_type": "stream",
     "text": [
      "enter n=2\n",
      "enter x=world\n",
      "enter x=hello\n",
      "{'hello', 'world'}\n"
     ]
    }
   ],
   "source": [
    "s=set()\n",
    "n=int(input(\"enter n=\"))\n",
    "for i in range(n):\n",
    "    x=input(\"enter x=\")\n",
    "    s.add(x)\n",
    "print(s)"
   ]
  },
  {
   "cell_type": "code",
   "execution_count": 8,
   "id": "202eda2a",
   "metadata": {},
   "outputs": [],
   "source": [
    "# set bhitra list halna mildaina\n",
    "# set bhitra set pani hudaina"
   ]
  },
  {
   "cell_type": "code",
   "execution_count": 11,
   "id": "93f07907",
   "metadata": {},
   "outputs": [
    {
     "data": {
      "text/plain": [
       "['ball', 'apple']"
      ]
     },
     "execution_count": 11,
     "metadata": {},
     "output_type": "execute_result"
    }
   ],
   "source": [
    "a=[\"apple\",\"ball\",\"apple\",\"ball\"]\n",
    "b=set(a)\n",
    "c=list(b)\n",
    "c"
   ]
  },
  {
   "cell_type": "code",
   "execution_count": 12,
   "id": "46a24c69",
   "metadata": {},
   "outputs": [
    {
     "data": {
      "text/plain": [
       "{'gita', 'hari', 'nita', 'ram', 'rita', 'sita'}"
      ]
     },
     "execution_count": 12,
     "metadata": {},
     "output_type": "execute_result"
    }
   ],
   "source": [
    "abc={\"ram\",\"sita\",\"rita\",\"hari\",\"nita\"}\n",
    "xyz={\"ram\",\"nita\",\"sita\",\"gita\"}\n",
    "abc.union(xyz)"
   ]
  },
  {
   "cell_type": "code",
   "execution_count": 13,
   "id": "1516a520",
   "metadata": {},
   "outputs": [
    {
     "data": {
      "text/plain": [
       "{'nita', 'ram', 'sita'}"
      ]
     },
     "execution_count": 13,
     "metadata": {},
     "output_type": "execute_result"
    }
   ],
   "source": [
    "abc.intersection(xyz)"
   ]
  },
  {
   "cell_type": "code",
   "execution_count": 14,
   "id": "866e40b2",
   "metadata": {},
   "outputs": [
    {
     "data": {
      "text/plain": [
       "{'hari', 'rita'}"
      ]
     },
     "execution_count": 14,
     "metadata": {},
     "output_type": "execute_result"
    }
   ],
   "source": [
    "abc={\"ram\",\"sita\",\"rita\",\"hari\",\"nita\"}\n",
    "xyz={\"ram\",\"nita\",\"sita\",\"gita\"}\n",
    "abc.difference(xyz)"
   ]
  },
  {
   "cell_type": "code",
   "execution_count": 15,
   "id": "7d0315a3",
   "metadata": {},
   "outputs": [
    {
     "data": {
      "text/plain": [
       "{'gita'}"
      ]
     },
     "execution_count": 15,
     "metadata": {},
     "output_type": "execute_result"
    }
   ],
   "source": [
    "abc={\"ram\",\"sita\",\"rita\",\"hari\",\"nita\"}\n",
    "xyz={\"ram\",\"nita\",\"sita\",\"gita\"}\n",
    "xyz.difference(abc)"
   ]
  },
  {
   "cell_type": "code",
   "execution_count": 18,
   "id": "db97b409",
   "metadata": {},
   "outputs": [
    {
     "data": {
      "text/plain": [
       "{'nimesh'}"
      ]
     },
     "execution_count": 18,
     "metadata": {},
     "output_type": "execute_result"
    }
   ],
   "source": [
    "U={\"ram\",\"sita\",\"hari\",\"rita\",\"hari\",\"gita\",\"nita\",\"rita\",\"nimesh\"}\n",
    "abc={\"ram\",\"sita\",\"rita\",\"hari\",\"nita\"}\n",
    "xyz={\"ram\",\"nita\",\"sita\",\"gita\"}\n",
    "x=abc.union(xyz)\n",
    "un=U.difference(x)\n",
    "un"
   ]
  },
  {
   "cell_type": "code",
   "execution_count": 19,
   "id": "477898bd",
   "metadata": {},
   "outputs": [
    {
     "data": {
      "text/plain": [
       "{'gita', 'hari', 'rita'}"
      ]
     },
     "execution_count": 19,
     "metadata": {},
     "output_type": "execute_result"
    }
   ],
   "source": [
    "U={\"ram\",\"sita\",\"hari\",\"rita\",\"hari\",\"gita\",\"nita\",\"rita\",\"nimesh\"}\n",
    "abc={\"ram\",\"sita\",\"rita\",\"hari\",\"nita\"}\n",
    "xyz={\"ram\",\"nita\",\"sita\",\"gita\"}\n",
    "x=abc.intersection(xyz)                       #symmetric difference\n",
    "y=abc.union(xyz)\n",
    "un=y.difference(x)\n",
    "un"
   ]
  },
  {
   "cell_type": "code",
   "execution_count": null,
   "id": "e9ce2a71",
   "metadata": {},
   "outputs": [],
   "source": []
  }
 ],
 "metadata": {
  "kernelspec": {
   "display_name": "Python 3 (ipykernel)",
   "language": "python",
   "name": "python3"
  },
  "language_info": {
   "codemirror_mode": {
    "name": "ipython",
    "version": 3
   },
   "file_extension": ".py",
   "mimetype": "text/x-python",
   "name": "python",
   "nbconvert_exporter": "python",
   "pygments_lexer": "ipython3",
   "version": "3.9.7"
  }
 },
 "nbformat": 4,
 "nbformat_minor": 5
}
