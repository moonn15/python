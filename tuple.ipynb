{
 "cells": [
  {
   "cell_type": "code",
   "execution_count": 1,
   "id": "a7396b86",
   "metadata": {},
   "outputs": [],
   "source": [
    "# tuple\n",
    "# -indexed\n",
    "# -ordered\n",
    "# -multiple data\n",
    "# -duplicate data\n",
    "# -imutable"
   ]
  },
  {
   "cell_type": "code",
   "execution_count": 2,
   "id": "ac63d9c5",
   "metadata": {},
   "outputs": [
    {
     "name": "stdout",
     "output_type": "stream",
     "text": [
      "(1, 2, 3)\n",
      "<class 'tuple'>\n"
     ]
    }
   ],
   "source": [
    "a=(1,2,3)\n",
    "print(a)\n",
    "print(type(a))"
   ]
  },
  {
   "cell_type": "code",
   "execution_count": 3,
   "id": "71866f07",
   "metadata": {},
   "outputs": [
    {
     "name": "stdout",
     "output_type": "stream",
     "text": [
      "('apple',)\n",
      "<class 'tuple'>\n"
     ]
    }
   ],
   "source": [
    "a=(\"apple\",)\n",
    "print(a)\n",
    "print(type(a))"
   ]
  },
  {
   "cell_type": "code",
   "execution_count": 4,
   "id": "2dd6594c",
   "metadata": {},
   "outputs": [
    {
     "name": "stdout",
     "output_type": "stream",
     "text": [
      "apple\n"
     ]
    }
   ],
   "source": [
    "a=(\"apple\",\"ball\",\"cat\",\"dog\")\n",
    "print(a[0])"
   ]
  },
  {
   "cell_type": "code",
   "execution_count": 6,
   "id": "877323a5",
   "metadata": {},
   "outputs": [
    {
     "name": "stdout",
     "output_type": "stream",
     "text": [
      "('apple', 'ball', 'cat', 'dog', 'fish')\n"
     ]
    }
   ],
   "source": [
    "a=(\"apple\",\"ball\",\"cat\",\"dog\")\n",
    "b=(\"fish\",)\n",
    "print(a+b)"
   ]
  },
  {
   "cell_type": "code",
   "execution_count": 7,
   "id": "71379441",
   "metadata": {},
   "outputs": [
    {
     "name": "stdout",
     "output_type": "stream",
     "text": [
      "['apple', 'ball', 'cat', 'dog', 'zebra']\n",
      "('zebra', 'apple', 'ball', 'cat', 'dog')\n"
     ]
    }
   ],
   "source": [
    "a=(\"zebra\",\"apple\",\"ball\",\"cat\",\"dog\")\n",
    "print(sorted(a))\n",
    "print(a)"
   ]
  },
  {
   "cell_type": "code",
   "execution_count": 8,
   "id": "0a746016",
   "metadata": {},
   "outputs": [
    {
     "name": "stdout",
     "output_type": "stream",
     "text": [
      "['zebra', 'apple', 'ball', 'cat', 'dog']\n"
     ]
    }
   ],
   "source": [
    "a=(\"zebra\",\"apple\",\"ball\",\"cat\",\"dog\")\n",
    "b=list(a)\n",
    "print(b)"
   ]
  },
  {
   "cell_type": "code",
   "execution_count": 9,
   "id": "46dd7492",
   "metadata": {},
   "outputs": [
    {
     "data": {
      "text/plain": [
       "('apple', 'ball', 'cat', 'dog')"
      ]
     },
     "execution_count": 9,
     "metadata": {},
     "output_type": "execute_result"
    }
   ],
   "source": [
    "a=(\"zebra\",\"apple\",\"ball\",\"cat\",\"dog\")\n",
    "b=list(a)\n",
    "b.remove(\"zebra\")\n",
    "a=tuple(b)\n",
    "a"
   ]
  },
  {
   "cell_type": "code",
   "execution_count": 10,
   "id": "d8e58639",
   "metadata": {},
   "outputs": [],
   "source": [
    "# min() max() sum() index() search read"
   ]
  },
  {
   "cell_type": "code",
   "execution_count": 12,
   "id": "dea990d1",
   "metadata": {},
   "outputs": [
    {
     "data": {
      "text/plain": [
       "1"
      ]
     },
     "execution_count": 12,
     "metadata": {},
     "output_type": "execute_result"
    }
   ],
   "source": [
    "a=(\"zebra\",\"apple\",\"ball\",\"cat\",\"dog\")\n",
    "a.index(\"apple\")"
   ]
  },
  {
   "cell_type": "code",
   "execution_count": 13,
   "id": "839fc93a",
   "metadata": {},
   "outputs": [
    {
     "name": "stdout",
     "output_type": "stream",
     "text": [
      "zebra\n",
      "apple\n",
      "ball\n",
      "cat\n",
      "dog\n"
     ]
    }
   ],
   "source": [
    "a=(\"zebra\",\"apple\",\"ball\",\"cat\",\"dog\")\n",
    "for i in a:\n",
    "    print(i)"
   ]
  },
  {
   "cell_type": "code",
   "execution_count": 14,
   "id": "d227a9ce",
   "metadata": {},
   "outputs": [
    {
     "name": "stdout",
     "output_type": "stream",
     "text": [
      "yes\n"
     ]
    }
   ],
   "source": [
    "a=(\"zebra\",\"apple\",\"ball\",\"cat\",\"dog\")\n",
    "if \"apple\" in a:\n",
    "    print(\"yes\")"
   ]
  },
  {
   "cell_type": "code",
   "execution_count": 16,
   "id": "82360c29",
   "metadata": {},
   "outputs": [
    {
     "name": "stdout",
     "output_type": "stream",
     "text": [
      "enter n=2\n",
      "enter x=34\n",
      "enter x=45\n",
      "(34, 45)\n"
     ]
    }
   ],
   "source": [
    "data=()\n",
    "n=int(input(\"enter n=\"))\n",
    "for i in range(n):\n",
    "    x=int(input(\"enter x=\"))\n",
    "    data= data+(x,)\n",
    "print(data)"
   ]
  },
  {
   "cell_type": "code",
   "execution_count": 21,
   "id": "d5f45dfd",
   "metadata": {},
   "outputs": [
    {
     "name": "stdout",
     "output_type": "stream",
     "text": [
      "hello\n",
      "world\n"
     ]
    }
   ],
   "source": [
    "def hello():\n",
    "    return \"hello\",\"world\"\n",
    "print(hello()[0])\n",
    "print(hello()[1])"
   ]
  },
  {
   "cell_type": "code",
   "execution_count": 22,
   "id": "e8897f4c",
   "metadata": {},
   "outputs": [
    {
     "name": "stdout",
     "output_type": "stream",
     "text": [
      "hello world\n"
     ]
    }
   ],
   "source": [
    "def hello(z):\n",
    "    print(z[0],z[1])\n",
    "t=(\"hello\",\"world\")\n",
    "hello(t)"
   ]
  },
  {
   "cell_type": "code",
   "execution_count": 23,
   "id": "0ae6d2c4",
   "metadata": {},
   "outputs": [],
   "source": [
    "# tuple inside tuple\n",
    "# a=((1,2,3),\n",
    "#   (4,5,6),\n",
    "#   (7,8,9))"
   ]
  },
  {
   "cell_type": "code",
   "execution_count": 24,
   "id": "9a648a51",
   "metadata": {},
   "outputs": [
    {
     "name": "stdout",
     "output_type": "stream",
     "text": [
      "enter n=2\n",
      "enter name=mohini\n",
      "enter age=22\n",
      "enter add=kathmandu\n",
      "enter name=moon\n",
      "enter age=22\n",
      "enter add=kathmandu\n",
      "((1, 'mohini', 22, 'kathmandu'), (2, 'moon', 22, 'kathmandu'))\n"
     ]
    }
   ],
   "source": [
    "data=()\n",
    "n=int(input(\"enter n=\"))\n",
    "for i in range(1,n+1):\n",
    "    name=input(\"enter name=\")\n",
    "    age=int(input(\"enter age=\"))\n",
    "    add=input(\"enter add=\")\n",
    "    info=(i,name,age,add)\n",
    "    data=data+(info,)\n",
    "print(data)"
   ]
  },
  {
   "cell_type": "code",
   "execution_count": 1,
   "id": "d9cc5479",
   "metadata": {},
   "outputs": [
    {
     "name": "stdout",
     "output_type": "stream",
     "text": [
      "[[1, 2, 3], [4, 5, 6], [8, 9, 0]]\n"
     ]
    }
   ],
   "source": [
    "# tuple inside tuple into list inside list\n",
    "a=((1,2,3),(4,5,6),(8,9,0))\n",
    "b=[list(x)for x in a]\n",
    "print(b)"
   ]
  },
  {
   "cell_type": "code",
   "execution_count": 2,
   "id": "e441072c",
   "metadata": {},
   "outputs": [
    {
     "name": "stdout",
     "output_type": "stream",
     "text": [
      "[1, 2, 3]\n",
      "([1, 2, 3, 4], [4, 5, 6], [7, 8, 9])\n"
     ]
    }
   ],
   "source": [
    "#list inside tuple\n",
    "a=([1,2,3],[4,5,6],[7,8,9])\n",
    "print(a[0])\n",
    "a[0].append(4)\n",
    "print(a)"
   ]
  },
  {
   "cell_type": "code",
   "execution_count": 3,
   "id": "580d4757",
   "metadata": {},
   "outputs": [
    {
     "name": "stdout",
     "output_type": "stream",
     "text": [
      "[1, 2, 3]\n",
      "([11, 2, 3], [4, 5, 6], [7, 8, 9])\n"
     ]
    }
   ],
   "source": [
    "a=([1,2,3],[4,5,6],[7,8,9])\n",
    "print(a[0])\n",
    "a[0][0]=11\n",
    "print(a)"
   ]
  },
  {
   "cell_type": "code",
   "execution_count": 10,
   "id": "61629464",
   "metadata": {},
   "outputs": [
    {
     "name": "stdout",
     "output_type": "stream",
     "text": [
      "(11, 22, 33)\n"
     ]
    }
   ],
   "source": [
    "a=[(1,2,3),(4,5,6),(7,8,9)]\n",
    "b=(11,22,33)\n",
    "a.append(b)\n",
    "print(b)\n"
   ]
  },
  {
   "cell_type": "code",
   "execution_count": 5,
   "id": "5b1e7b22",
   "metadata": {},
   "outputs": [
    {
     "data": {
      "text/plain": [
       "[(1, 2, 33), (4, 5, 6)]"
      ]
     },
     "execution_count": 5,
     "metadata": {},
     "output_type": "execute_result"
    }
   ],
   "source": [
    "a=[(1,2,3),(4,5,6)]\n",
    "a[0]=(1,2,33)\n",
    "a"
   ]
  },
  {
   "cell_type": "code",
   "execution_count": 6,
   "id": "cb08dc5a",
   "metadata": {},
   "outputs": [
    {
     "name": "stdout",
     "output_type": "stream",
     "text": [
      "[[1, 2, 3], [4, 5, 6]]\n"
     ]
    }
   ],
   "source": [
    "# tuple inside tuple to list inside list\n",
    "b=[]\n",
    "a=((1,2,3),(4,5,6))\n",
    "for i in a:\n",
    "    x=list(i)\n",
    "    b.append(x)\n",
    "print(b)"
   ]
  },
  {
   "cell_type": "code",
   "execution_count": null,
   "id": "89a2fa39",
   "metadata": {},
   "outputs": [],
   "source": []
  }
 ],
 "metadata": {
  "kernelspec": {
   "display_name": "Python 3 (ipykernel)",
   "language": "python",
   "name": "python3"
  },
  "language_info": {
   "codemirror_mode": {
    "name": "ipython",
    "version": 3
   },
   "file_extension": ".py",
   "mimetype": "text/x-python",
   "name": "python",
   "nbconvert_exporter": "python",
   "pygments_lexer": "ipython3",
   "version": "3.9.7"
  }
 },
 "nbformat": 4,
 "nbformat_minor": 5
}
