{
 "cells": [
  {
   "cell_type": "code",
   "execution_count": null,
   "id": "55e84ee1",
   "metadata": {},
   "outputs": [],
   "source": [
    "# for loop\n",
    "# while loop"
   ]
  },
  {
   "cell_type": "code",
   "execution_count": null,
   "id": "4d2b8127",
   "metadata": {},
   "outputs": [],
   "source": [
    "# range\n",
    "# range(5)  (i=0;i<5;i++)\n",
    "# range(1,5) (i=1;i<5;i++)\n"
   ]
  },
  {
   "cell_type": "code",
   "execution_count": 1,
   "id": "c3572af9",
   "metadata": {},
   "outputs": [
    {
     "name": "stdout",
     "output_type": "stream",
     "text": [
      "hello world\n",
      "hello world\n",
      "hello world\n",
      "hello world\n",
      "hello world\n"
     ]
    }
   ],
   "source": [
    "for i in range(5):\n",
    "    print(\"hello world\")"
   ]
  },
  {
   "cell_type": "code",
   "execution_count": null,
   "id": "2b869c7a",
   "metadata": {},
   "outputs": [],
   "source": [
    " for i in range(5):\n",
    "    print(i,\"hello world\")"
   ]
  },
  {
   "cell_type": "code",
   "execution_count": 2,
   "id": "21fef682",
   "metadata": {},
   "outputs": [
    {
     "name": "stdout",
     "output_type": "stream",
     "text": [
      "5 hello world\n",
      "4 hello world\n",
      "3 hello world\n",
      "2 hello world\n",
      "1 hello world\n",
      "0 hello world\n"
     ]
    }
   ],
   "source": [
    " for i in range(5,-1,-1):\n",
    "    print(i,\"hello world\")"
   ]
  },
  {
   "cell_type": "code",
   "execution_count": 3,
   "id": "40bf905f",
   "metadata": {},
   "outputs": [
    {
     "name": "stdout",
     "output_type": "stream",
     "text": [
      "enter n =3\n",
      "enter x =4\n",
      "4\n",
      "enter x =5\n",
      "9\n",
      "enter x =2\n",
      "11\n"
     ]
    }
   ],
   "source": [
    "# sum of n number\n",
    "s = 0\n",
    "n = int(input(\"enter n =\"))\n",
    "for i in range(n):\n",
    "    x = int(input(\"enter x =\"))\n",
    "    s= s+x\n",
    "    print(s)"
   ]
  },
  {
   "cell_type": "code",
   "execution_count": 4,
   "id": "f33eb773",
   "metadata": {},
   "outputs": [
    {
     "name": "stdout",
     "output_type": "stream",
     "text": [
      "enter n =2\n",
      "enter x =ram\n",
      "ram \n",
      "enter x =shyam\n",
      "ram shyam \n"
     ]
    }
   ],
   "source": [
    "s=\"\"\n",
    "n= int(input(\"enter n =\"))\n",
    "for i in range(n):\n",
    "    x= (input(\"enter x =\"))\n",
    "    s= s+x+\" \"\n",
    "    print(s)\n",
    "    "
   ]
  },
  {
   "cell_type": "code",
   "execution_count": 5,
   "id": "1a3f766c",
   "metadata": {},
   "outputs": [
    {
     "name": "stdout",
     "output_type": "stream",
     "text": [
      "enter n =2\n",
      "enter name =ram\n",
      "enter phone= 98436789\n",
      "enter name =shyam\n",
      "enter phone= 98567002\n",
      "ram 98436789\n",
      "shyam 98567002\n",
      "\n"
     ]
    }
   ],
   "source": [
    "s=\"\"\n",
    "n= int(input(\"enter n =\"))\n",
    "for i in range(n):\n",
    "    name= (input(\"enter name =\"))\n",
    "    phone= (input(\"enter phone= \"))\n",
    "    s= s+name+\" \"+phone+\"\\n\"\n",
    "print(s)\n",
    "    "
   ]
  },
  {
   "cell_type": "code",
   "execution_count": null,
   "id": "3945ee9a",
   "metadata": {},
   "outputs": [],
   "source": [
    "# WAP to calculate factorial of a number\n",
    "# WAP to calculate total amount of a bill"
   ]
  },
  {
   "cell_type": "code",
   "execution_count": null,
   "id": "f27ac8fb",
   "metadata": {},
   "outputs": [
    {
     "name": "stdout",
     "output_type": "stream",
     "text": [
      "enter n=2\n",
      "enter item =jam\n",
      "enter price=100\n",
      "enter quantity=1\n",
      "jam 100 1100\n",
      "\n"
     ]
    }
   ],
   "source": [
    "s=\"\"\n",
    "t=0\n",
    "n= int(input(\"enter n=\"))\n",
    "for i in range(n):\n",
    "    item=(input(\"enter item =\"))\n",
    "    price=int(input(\"enter price=\"))\n",
    "    quantity=int(input(\"enter quantity=\"))\n",
    "    total=price*quantity\n",
    "    s=s+item+\" \"+str(price)+\" \"+str(quantity)+str(total)+\"\\n\"\n",
    "    t=t+total\n",
    "    print(s)\n",
    "print(\"total =\",t)"
   ]
  },
  {
   "cell_type": "code",
   "execution_count": null,
   "id": "c5f60627",
   "metadata": {},
   "outputs": [],
   "source": []
  },
  {
   "cell_type": "code",
   "execution_count": 1,
   "id": "f509e3c4",
   "metadata": {},
   "outputs": [
    {
     "name": "stdout",
     "output_type": "stream",
     "text": [
      "enter n=2\n",
      "enter item =jam\n",
      "enter price=100\n",
      "enter quantity=1\n",
      "the bill is \n",
      " jam 100 1100\n",
      "\n",
      "enter item =bread\n",
      "enter price=200\n",
      "enter quantity=1\n",
      "the bill is \n",
      " jam 100 1100\n",
      "bread 200 1200\n",
      "\n",
      "all_total = 300\n"
     ]
    }
   ],
   "source": [
    "s=\"\"\n",
    "all_total=0\n",
    "n= int(input(\"enter n=\"))\n",
    "for i in range(n):\n",
    "    item=(input(\"enter item =\"))\n",
    "    price=int(input(\"enter price=\"))\n",
    "    quantity=int(input(\"enter quantity=\"))\n",
    "    total=price*quantity\n",
    "    s=s+item+\" \"+str(price)+\" \"+str(quantity)+str(total)+\"\\n\"\n",
    "    all_total= all_total+total\n",
    "    print(\"the bill is \\n\",s)\n",
    "print(\"all_total =\",all_total)"
   ]
  },
  {
   "cell_type": "code",
   "execution_count": 5,
   "id": "a03628c3",
   "metadata": {},
   "outputs": [
    {
     "name": "stdout",
     "output_type": "stream",
     "text": [
      "enter n =2\n",
      "enter x =hari\n",
      "hari \n",
      "enter x =ram\n",
      "hari ram \n"
     ]
    }
   ],
   "source": [
    "# while loop\n",
    "\n",
    "s=\"\"\n",
    "i=0\n",
    "n= int(input(\"enter n =\"))\n",
    "while i<n:\n",
    "    x=(input(\"enter x =\"))\n",
    "    s=s+x+\" \"\n",
    "    i=i+1\n",
    "    print(s)\n",
    "    "
   ]
  },
  {
   "cell_type": "code",
   "execution_count": 7,
   "id": "d599969e",
   "metadata": {},
   "outputs": [
    {
     "name": "stdout",
     "output_type": "stream",
     "text": [
      "p\n",
      "y\n",
      "t\n",
      "h\n",
      "o\n",
      "n\n"
     ]
    }
   ],
   "source": [
    "a =\"python\"\n",
    "for i in a:\n",
    "    print(i)"
   ]
  },
  {
   "cell_type": "code",
   "execution_count": 10,
   "id": "cde9fa64",
   "metadata": {},
   "outputs": [
    {
     "name": "stdout",
     "output_type": "stream",
     "text": [
      "h\n",
      "l\n",
      "l\n",
      "o\n",
      "w\n",
      "o\n",
      "r\n",
      "l\n",
      "d\n"
     ]
    }
   ],
   "source": [
    "a =\"hello world\"\n",
    "for i in a:\n",
    "    if i != \"e\" and i !=\" \":\n",
    "        print(i)"
   ]
  },
  {
   "cell_type": "code",
   "execution_count": null,
   "id": "df5ab4d9",
   "metadata": {},
   "outputs": [],
   "source": [
    "# control statements\n",
    "# break\n",
    "# continue\n",
    "# pass"
   ]
  },
  {
   "cell_type": "code",
   "execution_count": 4,
   "id": "1564b216",
   "metadata": {},
   "outputs": [
    {
     "name": "stdout",
     "output_type": "stream",
     "text": [
      "0\n",
      "1\n",
      "2\n"
     ]
    }
   ],
   "source": [
    "for i in range(5):\n",
    "    if i == 3:\n",
    "        break \n",
    "    print(i)"
   ]
  },
  {
   "cell_type": "code",
   "execution_count": 8,
   "id": "f76eb7b2",
   "metadata": {},
   "outputs": [
    {
     "name": "stdout",
     "output_type": "stream",
     "text": [
      "helloworld"
     ]
    }
   ],
   "source": [
    "a=\"hello world\"\n",
    "for i in a:\n",
    "    if i == \" \":\n",
    "        continue\n",
    "    print(i, end=\"\")"
   ]
  },
  {
   "cell_type": "code",
   "execution_count": 6,
   "id": "6e2bb29b",
   "metadata": {},
   "outputs": [
    {
     "name": "stdout",
     "output_type": "stream",
     "text": [
      "hello"
     ]
    }
   ],
   "source": [
    "a=\"hello world\"\n",
    "for i in a:\n",
    "    if i == \" \":\n",
    "        break \n",
    "    print(i, end=\"\")"
   ]
  },
  {
   "cell_type": "code",
   "execution_count": null,
   "id": "50872dbc",
   "metadata": {},
   "outputs": [],
   "source": []
  }
 ],
 "metadata": {
  "kernelspec": {
   "display_name": "Python 3 (ipykernel)",
   "language": "python",
   "name": "python3"
  },
  "language_info": {
   "codemirror_mode": {
    "name": "ipython",
    "version": 3
   },
   "file_extension": ".py",
   "mimetype": "text/x-python",
   "name": "python",
   "nbconvert_exporter": "python",
   "pygments_lexer": "ipython3",
   "version": "3.9.7"
  }
 },
 "nbformat": 4,
 "nbformat_minor": 5
}
