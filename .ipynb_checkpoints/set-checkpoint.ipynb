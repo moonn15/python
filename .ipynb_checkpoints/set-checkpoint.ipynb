{
 "cells": [
  {
   "cell_type": "code",
   "execution_count": 1,
   "id": "7bd0fa24",
   "metadata": {},
   "outputs": [],
   "source": [
    "# set\n",
    "# -not indexed\n",
    "# -no duplicate values\n",
    "# -unordered\n",
    "# -mutable"
   ]
  },
  {
   "cell_type": "code",
   "execution_count": 2,
   "id": "db6a51c6",
   "metadata": {},
   "outputs": [
    {
     "name": "stdout",
     "output_type": "stream",
     "text": [
      "{'ball', 'cat', 'apple'}\n"
     ]
    }
   ],
   "source": [
    "s=set()\n",
    "a={\"apple\",\"ball\",\"cat\"} #This shows us that set is unordered\n",
    "print(a)"
   ]
  },
  {
   "cell_type": "code",
   "execution_count": 3,
   "id": "e2a76390",
   "metadata": {},
   "outputs": [
    {
     "name": "stdout",
     "output_type": "stream",
     "text": [
      "{'ball', 'cat', 'apple'}\n"
     ]
    }
   ],
   "source": [
    "a={\"apple\",\"ball\",\"cat\",\"apple\"} #this shows set has no duplicate value \n",
    "print(a)"
   ]
  },
  {
   "cell_type": "code",
   "execution_count": 4,
   "id": "a9498482",
   "metadata": {},
   "outputs": [
    {
     "name": "stdout",
     "output_type": "stream",
     "text": [
      "{'goat', 'ball', 'cat', 'apple'}\n"
     ]
    }
   ],
   "source": [
    "a={\"apple\",\"ball\",\"cat\"}\n",
    "a.update({\"goat\"})\n",
    "print(a)"
   ]
  },
  {
   "cell_type": "code",
   "execution_count": 5,
   "id": "0aec7dc7",
   "metadata": {},
   "outputs": [
    {
     "data": {
      "text/plain": [
       "{'apple', 'ball', 'cat', 'goat'}"
      ]
     },
     "execution_count": 5,
     "metadata": {},
     "output_type": "execute_result"
    }
   ],
   "source": [
    "a={\"apple\",\"ball\",\"cat\"}\n",
    "a.add(\"goat\")             #this shows it is mutable\n",
    "a"
   ]
  },
  {
   "cell_type": "code",
   "execution_count": 7,
   "id": "f3550884",
   "metadata": {},
   "outputs": [
    {
     "name": "stdout",
     "output_type": "stream",
     "text": [
      "enter n=2\n",
      "enter x=world\n",
      "enter x=hello\n",
      "{'hello', 'world'}\n"
     ]
    }
   ],
   "source": [
    "s=set()\n",
    "n=int(input(\"enter n=\"))\n",
    "for i in range(n):\n",
    "    x=input(\"enter x=\")\n",
    "    s.add(x)\n",
    "print(s)"
   ]
  },
  {
   "cell_type": "code",
   "execution_count": null,
   "id": "455642fb",
   "metadata": {},
   "outputs": [],
   "source": []
  }
 ],
 "metadata": {
  "kernelspec": {
   "display_name": "Python 3 (ipykernel)",
   "language": "python",
   "name": "python3"
  },
  "language_info": {
   "codemirror_mode": {
    "name": "ipython",
    "version": 3
   },
   "file_extension": ".py",
   "mimetype": "text/x-python",
   "name": "python",
   "nbconvert_exporter": "python",
   "pygments_lexer": "ipython3",
   "version": "3.9.7"
  }
 },
 "nbformat": 4,
 "nbformat_minor": 5
}
