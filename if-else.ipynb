{
 "cells": [
  {
   "cell_type": "code",
   "execution_count": null,
   "id": "3eab98a8",
   "metadata": {},
   "outputs": [],
   "source": [
    "#if <condition>:\n",
    "#     <operation>\n",
    "#elif <condtion>:\n",
    "#      <operation>\n",
    "#else:\n",
    "#      <operation>\n",
    "    "
   ]
  },
  {
   "cell_type": "code",
   "execution_count": null,
   "id": "a9140db9",
   "metadata": {},
   "outputs": [],
   "source": [
    "#< > <= >= == !=\n",
    "#and or not"
   ]
  },
  {
   "cell_type": "code",
   "execution_count": 6,
   "id": "a063e7a0",
   "metadata": {},
   "outputs": [
    {
     "name": "stdout",
     "output_type": "stream",
     "text": [
      "enter a =50\n",
      "enter b =80\n",
      "b is greater\n"
     ]
    }
   ],
   "source": [
    "a= int(input(\"enter a =\"))\n",
    "b= int(input(\"enter b =\"))\n",
    "if a<b:\n",
    "    print(\"b is greater\")\n",
    "elif b>a:\n",
    "    print(\"b is greater\")\n",
    "else:\n",
    "    print(\"invalid\")"
   ]
  },
  {
   "cell_type": "code",
   "execution_count": null,
   "id": "55a58d1d",
   "metadata": {},
   "outputs": [],
   "source": [
    "#wap to calculate GPA of a student"
   ]
  },
  {
   "cell_type": "code",
   "execution_count": 2,
   "id": "7cb4933b",
   "metadata": {},
   "outputs": [
    {
     "name": "stdout",
     "output_type": "stream",
     "text": [
      "enter marks of science 90\n",
      "enter marks of maths 80\n",
      "enter marks of english 40\n",
      "70.0\n",
      "gpa = 2.0\n"
     ]
    }
   ],
   "source": [
    "a= int(input(\"enter marks of science \"))\n",
    "b= int(input(\"enter marks of maths \"))\n",
    "c= int(input(\"enter marks of english \"))\n",
    "total = a+b+c\n",
    "percentage = total/3\n",
    "print (percentage)\n",
    "if percentage == 100:\n",
    "    print(\"gpa = 4.0\")\n",
    "elif percentage > 90:\n",
    "    print(\"gpa = 3.6\")\n",
    "elif percentage >80:\n",
    "    print(\"gpa = 3.0\")\n",
    "elif percentage >70:\n",
    "    print(\"gpa = 2.6\")\n",
    "elif percentage >60:\n",
    "    print(\"gpa = 2.0\")\n",
    "elif percentage >50:\n",
    "    print(\"gpa = 1.9\")\n",
    "elif percentage >40:\n",
    "    print(\"gpa = 1.3\")\n",
    "else:\n",
    "    print(\"failed\")\n",
    "    "
   ]
  },
  {
   "cell_type": "code",
   "execution_count": null,
   "id": "0ef1b121",
   "metadata": {},
   "outputs": [],
   "source": []
  },
  {
   "cell_type": "code",
   "execution_count": null,
   "id": "709f611f",
   "metadata": {},
   "outputs": [],
   "source": []
  }
 ],
 "metadata": {
  "kernelspec": {
   "display_name": "Python 3 (ipykernel)",
   "language": "python",
   "name": "python3"
  },
  "language_info": {
   "codemirror_mode": {
    "name": "ipython",
    "version": 3
   },
   "file_extension": ".py",
   "mimetype": "text/x-python",
   "name": "python",
   "nbconvert_exporter": "python",
   "pygments_lexer": "ipython3",
   "version": "3.9.7"
  }
 },
 "nbformat": 4,
 "nbformat_minor": 5
}
